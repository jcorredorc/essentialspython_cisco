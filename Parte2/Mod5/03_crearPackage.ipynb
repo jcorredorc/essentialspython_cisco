{
 "cells": [
  {
   "cell_type": "markdown",
   "metadata": {},
   "source": [
    "# Crear un paquete\n",
    "\n",
    "Los módulos se pueden organizar en carpetas, observe:\n",
    "\n",
    "![alt text](images/windows_folder_tree_package.png)\n",
    "[fuente https://www.netacad.com/](https://www.netacad.com/courses/programming/pcap-programming-essentials-python)\n",
    "\n",
    "\n",
    "Se puede acceder a la funT(), ubicada en el paquete tau.py, así:\n",
    "\n",
    "```\n",
    "extra.good.best.tau.funT()\n",
    "```\n",
    "\n",
    "Observe que,\n",
    "\n",
    "```\n",
    "extra.ugly.psi.funP()\n",
    "```\n",
    "\n",
    "proviene del módulo `psi` el cual esta almacenado en subpaquete `ugly` del paquete `extra`."
   ]
  },
  {
   "cell_type": "markdown",
   "metadata": {},
   "source": [
    "## \\_\\_init\\_\\_.py\n",
    "\n",
    "\n",
    "La presencia del archivo \\_\\_init\\_\\_.py compone el paquete, este generalmente se encuentra en la raíz de la definición del paquete, en el ejemplo anterior sería:\n",
    "\n",
    "![alt text](images/windows_folder_tree_package_init.png)\n",
    "[fuente https://www.netacad.com/](https://www.netacad.com/courses/programming/pcap-programming-essentials-python)"
   ]
  },
  {
   "cell_type": "markdown",
   "metadata": {},
   "source": [
    "> no solo la carpeta raíz puede contener el archivo \\_\\_init\\_\\_.py - también puedes ponerlo dentro de cualquiera de sus subcarpetas (subpaquetes). Puede ser útil si algunos de los subpaquetes requieren tratamiento individual o un tipo especial de inicialización"
   ]
  },
  {
   "cell_type": "markdown",
   "metadata": {},
   "source": [
    "## Ejemplo 1\n",
    "\n",
    "1. Descargar o generar el árbol de directorios en su computador disponible en la carpeta [extra](py/packages/extra/), observe que el nombre de la carpeta es el que le da nombre al paquete.\n",
    "\n",
    "El árbol de directorios debe ser tal como la siguiente imagen, y el contenido de los módulos (archivos de python que componen el paquete) se debe copiar de la carpeta [extra](py/packages/extra/) (si no la ha descargado aun).\n",
    "\n",
    "![alt text](images/windows_folder_tree_package_ejemplo.png)\n",
    "[fuente https://www.netacad.com/](https://www.netacad.com/courses/programming/pcap-programming-essentials-python)\n",
    "\n",
    "En el siguiente paso vamos a aprender a usar el paquete.\n"
   ]
  },
  {
   "cell_type": "markdown",
   "metadata": {},
   "source": [
    "2. Crear el archivo `main2.py`, en la carpeta `progs`, y escribir el siguiente código:\n",
    "\n",
    "```Python\n",
    "from sys import path\n",
    "\n",
    "path.append('..\\\\packages')\n",
    "\n",
    "import extra.iota\n",
    "print(extra.iota.funI())\n",
    "\n",
    "```\n",
    "\n",
    "> El reemplazar `import extra.iota` con `import iota` causará un error.\n",
    "\n",
    "También puede usar:\n",
    "\n",
    "```Python\n",
    "from sys import path\n",
    "\n",
    "path.append('..\\\\packages')\n",
    "\n",
    "from extra.iota import funI\n",
    "print(funI())\n",
    "\n",
    "```  "
   ]
  },
  {
   "cell_type": "markdown",
   "metadata": {},
   "source": [
    "## Ejercicio\n",
    "\n",
    "Considere que va a implementar un programa usando el paquete `extra`. El programa se implementa en el archivo `main.py`, ver imagen arriba donde se muestra la ubicación de `main.py`.\n",
    "\n",
    "Importar los módulos necesarios para usar las siguientes funciones disponibles en el paquete. Para importarlos debe identificar en que módulo está implementada cada función.\n",
    "\n",
    "1. FunP()\n",
    "2. FunT()\n",
    "\n",
    "Compruebe que el archivo `main.py`, se ejecuta correctamente. "
   ]
  }
 ],
 "metadata": {
  "language_info": {
   "name": "python"
  },
  "orig_nbformat": 4
 },
 "nbformat": 4,
 "nbformat_minor": 2
}
