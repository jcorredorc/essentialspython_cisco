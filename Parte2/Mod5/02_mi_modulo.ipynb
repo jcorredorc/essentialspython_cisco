{
 "cells": [
  {
   "cell_type": "markdown",
   "metadata": {},
   "source": [
    "# Organizar los modulos en carpetas\n",
    "\n",
    "Observemos en la imagen la ubicación de los archivos donde se implementa el módulo (`module.py`) y el archivo `main.py` que hace uso de este módulo, en el sistema operativo Windows.\n",
    "\n",
    "![alt text](images/windows_folder_tree.png)\n",
    "[fuente https://www.netacad.com/](https://www.netacad.com/courses/programming/pcap-programming-essentials-python)\n"
   ]
  },
  {
   "cell_type": "markdown",
   "metadata": {},
   "source": [
    "Necesitamos utilizar el módulo en el archivo `main.py`, ubicado en la carpeta `progs`, y observese que el módulo está en otra carpta, `modules`. \n",
    "\n",
    "¿Cómo hago referencia a estos archivos, para que Python lo encuentre?"
   ]
  },
  {
   "cell_type": "markdown",
   "metadata": {},
   "source": [
    "Por medio de la variable `path`, esta variable es una lista. Esta variable es accesible a través el módulo `sys`. Revisemos la variable,"
   ]
  },
  {
   "cell_type": "code",
   "execution_count": null,
   "metadata": {},
   "outputs": [],
   "source": [
    "from sys import path\n",
    "\n",
    "print(path)"
   ]
  },
  {
   "cell_type": "markdown",
   "metadata": {},
   "source": [
    "## Ejemplo 1\n",
    "\n",
    "1. Crear en la carpeta de Mis Documentos el siguiente arbol de directorios y los archivos `module.py` y `main.py`\n",
    "\n",
    "        - Mis Documentos/        \n",
    "                        -py/\n",
    "                            -modules/\n",
    "                                    - module.py\n",
    "                            -programas/\n",
    "                                    - main.py                                       "
   ]
  },
  {
   "cell_type": "markdown",
   "metadata": {},
   "source": [
    "2. En el archivo `module.py` escribir el siguiente código (asegurese que el archivo se encuentre ubicado en la carpeta corresponidente):\n",
    "\n",
    "```Python\n",
    "#!/usr/bin/env python3\n",
    "# Esta 1ra línea indica como se debe ejecutar el archivo en Sistema Operativo Unix (Linux, Mac, etc)\n",
    "\n",
    "# doc-string: esta linea documenta el propósito del módulo.\n",
    "\"\"\"\" module_test.py - an example of Pyhton module \"\"\"\n",
    "\n",
    "__counter = 0\n",
    "\n",
    "\n",
    "def sum1(list):\n",
    "    global __counter\n",
    "    __counter += 1\n",
    "    sum = 0\n",
    "    for e1 in list:\n",
    "        sum += e1\n",
    "    return sum\n",
    "\n",
    "\n",
    "def prod1(list):\n",
    "    global __counter\n",
    "    __counter += 1\n",
    "    prod = 0\n",
    "    for e1 in list:\n",
    "        prod += e1\n",
    "    return prod\n",
    "\n",
    "\n",
    "if __name__ == \"__main__\":\n",
    "    print(\"I prefer to be a module, but I can do some tests for you\")\n",
    "    l = [i+1 for i in range(5)]\n",
    "    print(sum1(l) == 15)\n",
    "    print(prod1(l) == 120)\n",
    "```"
   ]
  },
  {
   "cell_type": "markdown",
   "metadata": {},
   "source": [
    "3. En el archivo `main.py` escribir el siguiente código (asegurese que el archivo se encuentre ubicado en la carpeta corresponidente):\n",
    "\n",
    "```Python\n",
    "from sys import path\n",
    "\n",
    "path.append('..\\\\modules') # En esta linea se agrega la carpeta modules a la lista path\n",
    "# path.insert('..\\\\modules') # puede usar cualquier metodo de lista para agregar la ruta deseada\n",
    "\n",
    "import module\n",
    "\n",
    "zeroes = [0 for i in range(5)]\n",
    "ones =[1 for i in range(5)]\n",
    "print(module.sum1(zeroes))\n",
    "print(module.prod1(ones))\n",
    "```"
   ]
  },
  {
   "cell_type": "markdown",
   "metadata": {},
   "source": [
    "Observe la línea del archivo `main.py`, \n",
    "\n",
    "`path.append('..\\\\modules')`\n",
    "\n",
    "agrega la ruta de ubicación del módulo, para que se pueda acceder a este archivo y que sea posible importar el módulo.\n",
    "\n",
    "Observese el uso del caracter doble \"\\\\\":  Debido a que una diagonal invertida se usa para escapar de otros caracteres, si deseas obtener solo una diagonal invertida, debe escapar. Esta forma de definir la ubicación se llama relativa, dado que se refiere desde la ubicación actual. \n",
    "\n",
    "Otra forma de referir la ubicación es, por medio de la ubicación absoluta, que sería,\n",
    "\n",
    "\n",
    "`path.append('C:\\\\Users\\\\user\\\\Mis Documentos\\\\py\\\\modules') `\n",
    "\n",
    "> Tarea: Pruebe los dos tipos de ubicación, relativa y absoluta. De ser necesario ajuste la ubicación para que coincida con la que esta disponible en su computador.\n",
    "\n",
    "\n",
    "\n"
   ]
  },
  {
   "cell_type": "markdown",
   "metadata": {},
   "source": [
    "## Ejercicio 1\n",
    "\n",
    "Reproduzca el procedimiento anterior con el código que usted a realizado en la actividad del `tic-tac-toe`. Cree dos archivos, `tic_tac_toe.py` y `main.py`, ubicados en dos carpetas diferentes (tal como en el ejemplo anterior), usted debe decidir los nombres de las carpetas.\n",
    "\n",
    "* El primero `tic_tac_toe.py` es una implementación del módulo, allí debe estar la implementación de todas las funciones que se han programado. Así como el código de prueba de las funciones del módulo.\n",
    "\n",
    "* En el módulo `tic_tac_toe.py` implementar una nueva función denominada `CreateBoard()`, que cree la lista que representa el tablero al inicio del juego, esto quiere decir que debe retornar el tablero con los dígitos correspondientes y la primera jugada de la máquina (posición 5). \n",
    "\n",
    "* En el segundo, `main.py`, se deben usar las funciones y crear la dinámica del juego, para este propósito se debe importar el módulo `tic_tac_toe` de la siguiente manera\n",
    "\n",
    "```Python\n",
    "    import tic_tac_toe as triqui\n",
    "\n",
    "    \"\"\"< escriba codigo del juego >\"\"\"\n",
    "```"
   ]
  }
 ],
 "metadata": {
  "interpreter": {
   "hash": "916dbcbb3f70747c44a77c7bcd40155683ae19c65e1c03b4aa3499c5328201f1"
  },
  "kernelspec": {
   "display_name": "Python 3.8.10 64-bit",
   "language": "python",
   "name": "python3"
  },
  "language_info": {
   "codemirror_mode": {
    "name": "ipython",
    "version": 3
   },
   "file_extension": ".py",
   "mimetype": "text/x-python",
   "name": "python",
   "nbconvert_exporter": "python",
   "pygments_lexer": "ipython3",
   "version": "3.8.10"
  },
  "orig_nbformat": 4
 },
 "nbformat": 4,
 "nbformat_minor": 2
}
