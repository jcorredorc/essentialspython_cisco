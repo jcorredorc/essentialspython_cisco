{
 "cells": [
  {
   "cell_type": "markdown",
   "metadata": {},
   "source": [
    "# Crear un paquete\n",
    "\n",
    "Los módulos se pueden organizar en carpetas, observe:\n",
    "\n",
    "![alt text](images/windows_folder_tree_package.png)\n",
    "\n",
    "\n",
    "Se puede acceder a la funT(), ubicada en el paquete tau.py, así:\n",
    "\n",
    "```\n",
    "extra.good.best.tau.funT()\n",
    "```\n",
    "\n",
    "Observe que,\n",
    "\n",
    "```\n",
    "extra.ugly.psi.funP()\n",
    "```\n",
    "\n",
    "proviene del módulo `psi` el cual esta almacenado en subpaquete `ugly` del paquete `extra`."
   ]
  },
  {
   "cell_type": "markdown",
   "metadata": {},
   "source": [
    "## \\_\\_init.py\\_\\_\n",
    "\n",
    "\n",
    "La presencia del archivo \\_\\_init.py\\_\\_ compone el paquete, este generalmente se encuentra en la raiz de la definición del paquete, en el ejemplo anterior sería:\n",
    "\n",
    "![alt text](images/windows_folder_tree_package_init.png)"
   ]
  },
  {
   "cell_type": "markdown",
   "metadata": {},
   "source": [
    "> no solo la carpeta raiz puede contener el archivo \\_\\_init.py\\_\\_ - también puedes ponerlo dentro de cualquiera de sus subcarpetas (subpaquetes). Puede ser útil si algunos de los subpaquetes requieren tratamiento individual o un tipo especial de inicialización"
   ]
  },
  {
   "cell_type": "markdown",
   "metadata": {},
   "source": [
    "## Ejemplo 1\n",
    "\n",
    "1. Descargar o generar el arbol de directorios en su computador disponible en la carpeta [extra](extra/), debe incluir la carpeta extra, que es el nombre del módulo a trabajar. \n",
    "\n",
    "El arbol de directorios debe ser tal como la imagen:\n",
    "\n",
    "![alt text](images/windows_folder_tree_package_ejemplo.png)\n",
    "\n",
    "2. Modificar el archivo `main2.py`, en la carpeta `progs`, así:\n",
    "\n",
    "```Python\n",
    "from sys import path\n",
    "\n",
    "path.append('..\\\\packages')\n",
    "\n",
    "import extra.iota\n",
    "print(extra.iota.funI())\n",
    "\n",
    "```\n",
    "> El reemplazar import extra.iota con import iota causará un error.\n",
    "\n",
    "Tambien puede usar:\n",
    "\n",
    "```Python\n",
    "from sys import path\n",
    "\n",
    "path.append('..\\\\packages')\n",
    "\n",
    "from extra.iota import funI\n",
    "print(funI())\n",
    "\n",
    "```  "
   ]
  }
 ],
 "metadata": {
  "language_info": {
   "name": "python"
  },
  "orig_nbformat": 4
 },
 "nbformat": 4,
 "nbformat_minor": 2
}
