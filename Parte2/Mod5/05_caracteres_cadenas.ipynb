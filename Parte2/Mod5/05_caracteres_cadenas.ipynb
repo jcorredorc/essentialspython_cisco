{
 "cells": [
  {
   "cell_type": "markdown",
   "metadata": {},
   "source": [
    "# Almacenamiento de carácteres, letras, simbolos\n",
    "\n",
    "## Ejercicio 1\n",
    "\n",
    "Revisar la tabla [ASCII](https://ascii.cl/es/) y responder:\n",
    "\n",
    "1. Identifique el código ASCII asignado a la letra `a`\n",
    "2. Identifique el código ASCII asignado a la letra `A`\n",
    "3. ¿Cual es el propósito de los códigos ASCII del $0$ al $31$?\n",
    "4. ¿Para qué sirve el código ASCII?\n",
    " \n",
    "\n"
   ]
  },
  {
   "cell_type": "markdown",
   "metadata": {},
   "source": [
    "## Unicode \n",
    "[Unicode](https://unicode-table.com/es/) asigna caracteres únicos (letras, guiones, ideogramas, etc.) a más de un millón de puntos de código (valor ASCII asignado a un símbolo). Los primeros 128 puntos de código Unicode son idénticos a ASCII, y los primeros 256 puntos de código Unicode son idénticos a la página de códigos ISO / IEC 8859-1 (una página de códigos diseñada para idiomas de Europa occidental)."
   ]
  },
  {
   "cell_type": "markdown",
   "metadata": {},
   "source": [
    "El estándar Unicode no dice nada sobre cómo codificar y almacenar los caracteres en la memoria y los archivos.\n",
    "\n",
    "## UTF-8\n",
    "Uno de los más utilizados es [UTF-8](https://es.wikipedia.org/wiki/UTF-8).\n",
    "\n",
    "El nombre se deriva de Unicode Transformation Format (Formato de Transformación Unicode).\n",
    "\n",
    "El concepto es muy inteligente. UTF-8 emplea tantos bits para cada uno de los puntos de código como realmente necesita para representarlos.\n",
    "\n",
    ">  Python 3 es totalmente compatible con Unicode y UTF-8."
   ]
  },
  {
   "cell_type": "markdown",
   "metadata": {},
   "source": [
    "## Algunas funciones aplicables a cadenas\n",
    "\n",
    "La definición de cadenas de caracteres son secuencias inmutables. Recordemos como se asigna una variable de cadena de caracteres (`string`)."
   ]
  },
  {
   "cell_type": "code",
   "execution_count": 2,
   "metadata": {},
   "outputs": [
    {
     "name": "stdout",
     "output_type": "stream",
     "text": [
      "Hola mundo\n",
      " esta cadena esta escrita\n",
      "en varias lineas y me permite almacenar texto\n",
      "\n",
      "\n",
      "con varios saltos de línea \n",
      " ok?\n"
     ]
    }
   ],
   "source": [
    "a= 'Hola mundo'\n",
    "cadena_varias_lineas= '''  esta cadena esta escrita\n",
    "en varias lineas y me permite almacenar texto\n",
    "\n",
    "\n",
    "con varios saltos de línea \\n ok?'''\n",
    "print(a)\n",
    "print(cadena_varias_lineas)"
   ]
  },
  {
   "cell_type": "markdown",
   "metadata": {},
   "source": [
    "### Calcular la longitud de la cadena `len()`,"
   ]
  },
  {
   "cell_type": "code",
   "execution_count": 3,
   "metadata": {},
   "outputs": [
    {
     "name": "stdout",
     "output_type": "stream",
     "text": [
      "10\n",
      "106\n"
     ]
    }
   ],
   "source": [
    "# \n",
    "len_a=len(a)\n",
    "len_cadena_varias_lineas=len(cadena_varias_lineas)\n",
    "print(len_a)\n",
    "print(len_cadena_varias_lineas)"
   ]
  },
  {
   "cell_type": "markdown",
   "metadata": {},
   "source": [
    "### Operaciones con cadenas"
   ]
  },
  {
   "cell_type": "code",
   "execution_count": 4,
   "metadata": {},
   "outputs": [
    {
     "name": "stdout",
     "output_type": "stream",
     "text": [
      "abcDEF\n",
      "DEFabc\n",
      "aaaaa\n",
      "bbbb\n"
     ]
    }
   ],
   "source": [
    "str1 = 'abc'\n",
    "str2 = 'DEF'\n",
    "\n",
    "print(str1 + str2)\n",
    "print(str2 + str1)\n",
    "print(5 * 'a')\n",
    "print('b' * 4)"
   ]
  },
  {
   "cell_type": "code",
   "execution_count": 6,
   "metadata": {},
   "outputs": [
    {
     "name": "stdout",
     "output_type": "stream",
     "text": [
      "esto es una cadena\n"
     ]
    }
   ],
   "source": [
    "copy_str = ''\n",
    "for i in \"esto es una cadena\":\n",
    "    copy_str += i \n",
    "\n",
    "print(copy_str)"
   ]
  }
 ],
 "metadata": {
  "interpreter": {
   "hash": "efbe9435cc8db3e73b5a78638a2554badc033fad4cda795f41c93f6f7edda0a4"
  },
  "kernelspec": {
   "display_name": "Python 3.9.4 64-bit",
   "language": "python",
   "name": "python3"
  },
  "language_info": {
   "codemirror_mode": {
    "name": "ipython",
    "version": 3
   },
   "file_extension": ".py",
   "mimetype": "text/x-python",
   "name": "python",
   "nbconvert_exporter": "python",
   "pygments_lexer": "ipython3",
   "version": "3.9.4"
  },
  "orig_nbformat": 4
 },
 "nbformat": 4,
 "nbformat_minor": 2
}
