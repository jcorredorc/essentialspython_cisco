{
 "cells": [
  {
   "cell_type": "markdown",
   "metadata": {},
   "source": [
    "# Manejo de errores en Python\n",
    "\n",
    "## \"Cualquier cosa que pueda salir mal, saldrá mal\". Ley de Murphy\n"
   ]
  },
  {
   "cell_type": "markdown",
   "metadata": {},
   "source": [
    "Miremos el siguiente código"
   ]
  },
  {
   "cell_type": "code",
   "execution_count": null,
   "metadata": {},
   "outputs": [],
   "source": [
    "import math\n",
    "\n",
    "x = float(input(\"ingresa el valor de x: \"))\n",
    "y=math.sqrt(x)\n",
    "print(\"La raíz cuadrada de\", x, \"es igual a\", y)"
   ]
  },
  {
   "cell_type": "markdown",
   "metadata": {},
   "source": [
    "En el anterior código hay dos formas posibles de que el código genere un error:\n",
    "\n",
    "1. Si el usuario ingresa texto, u otro tipo de dato que no se pueda convertir a un número flotante, el programa se detiene y genera un error.\n",
    "\n",
    "2. La raíz cuadrada `sqrt()` genera un error si el argumento es un número negativo. Es decir, que si el usuario ingresa un número negativo se genera un error.\n",
    "\n",
    "Probar los dos casos en el código anterior."
   ]
  },
  {
   "cell_type": "markdown",
   "metadata": {},
   "source": [
    "## Excepción\n",
    "\n",
    "Cuando se hace algo erróneo o no permitido, Python detiene el programa y crea un tipo especial de datos, llamado __excepción__. Esto se conoce como lanzar una excepción.\n",
    "\n",
    "Si se atiende la __excepción__ y es manejada apropiadamente, el programa puede reanudarse y su ejecución puede continuar, de lo contrario, el programa termina abruptamente y se genera un mensaje de error en la consola de Python, tal como en el caso anterior.\n",
    "\n",
    "Las herramientas disponibles en Python para manejar las __excepciones__ dependen del tipo de error y los nombres que se le dan. Por ejemplo, en el caso anterior, cuando introducimos un número negativo para calcular la raíz cuadrada se genera el error  `ValueError: math domain error`, donde el nombre de la excepción es `ValueError`\n",
    "\n",
    "Pruebe los siguientes codigos, e identifique el nombre de las excepciones que se generan."
   ]
  },
  {
   "cell_type": "code",
   "execution_count": null,
   "metadata": {},
   "outputs": [],
   "source": [
    "valor = 1\n",
    "valor /= 0"
   ]
  },
  {
   "cell_type": "code",
   "execution_count": null,
   "metadata": {},
   "outputs": [],
   "source": [
    "lista=[]\n",
    "x=lista[0]"
   ]
  },
  {
   "cell_type": "markdown",
   "metadata": {},
   "source": [
    "## ¿Cómo se manejan las excepciones?\n",
    "\n",
    "Observe el siguiente código, donde se intenta no hacer una división por cero. Recuerde que dividir en cero no tiene un resultado bien definido (es indefinido) y genera un error en la ejecución del programa."
   ]
  },
  {
   "cell_type": "code",
   "execution_count": null,
   "metadata": {},
   "outputs": [],
   "source": [
    "primerNumero = int(input(\"Ingresa el primer numero: \"))\n",
    "segundoNumero = int(input(\"Ingresa el segundo numero: \"))\n",
    "\n",
    "if segundoNumero != 0:\n",
    "    print(primerNumero / segundoNumero)\n",
    "else:\n",
    "    print(\"Esta operacion no puede ser realizada.\")\n",
    "\n",
    "print(\"FIN.\")"
   ]
  },
  {
   "cell_type": "markdown",
   "metadata": {},
   "source": [
    "Es cierto que esta forma puede parecer la más natural y comprensible, pero en realidad, este método no facilita la programación. Todas estas revisiones pueden hacer el código demasiado grande e ilegible.\n",
    "\n",
    "Python prefiere un enfoque completamente diferente, usando la palabra clave `try`\n",
    "\n"
   ]
  },
  {
   "cell_type": "markdown",
   "metadata": {},
   "source": [
    "## try\n",
    "\n",
    "Existe el comando `try`, en español tratar o intentar, que permite manejar las excepciones de la siguiente forma:"
   ]
  },
  {
   "cell_type": "code",
   "execution_count": null,
   "metadata": {},
   "outputs": [],
   "source": [
    "import math\n",
    "\n",
    "try:\n",
    "    x = float(input(\"ingresa el valor de x: \"))\n",
    "    y=math.sqrt(x)\n",
    "    print(\"La raíz cuadrada de\", x, \"es igual a\", y)\n",
    "except:\n",
    "    print(\"algo salio mal\")\n",
    "    \n",
    "print('El programa continua, sin detener la ejecución por el error')\n",
    "print('puede continuar ...')"
   ]
  },
  {
   "cell_type": "markdown",
   "metadata": {},
   "source": [
    "En el código anterior: Se intenta por medio de `try` ejecutar todo el bloque de código que esta indentado (con sangría ó __tab__), si no hay errores todas las instrucciones se ejecutan con éxito y continua la ejecución sin ejecutar el bloque `except`. Si por el contrario, se genera un error dentro del bloque `try`, se maneja la excepción en el bloque de código `except`, es decir se deja de ejecutar el bloque `try` y salta la ejecución al bloque `except`."
   ]
  },
  {
   "cell_type": "markdown",
   "metadata": {},
   "source": [
    "## Ejercicio 1.\n",
    "\n",
    "En el código anterior, intente generar errores, por ejemplo introduciendo un número negativo, o ingresando texto, en lugar de un número. Lea, identifique y registre en su cuaderno el mensaje programado para manejar las excepciones."
   ]
  },
  {
   "cell_type": "markdown",
   "metadata": {},
   "source": [
    "## ¿Cómo identificar que ocurrió?\n",
    "\n",
    "En el código anterior no sabemos cuál fue el error que generó la excepción. Veamos cómo podemos reaccionar de forma adecuada dependiendo del error."
   ]
  },
  {
   "cell_type": "code",
   "execution_count": null,
   "metadata": {},
   "outputs": [],
   "source": [
    "import math\n",
    "\n",
    "try:\n",
    "    x = float(input(\"ingresa el valor de x: \"))\n",
    "    y= float(input(\"ingresa el valor de y: \"))\n",
    "    z=math.sqrt(x/y)\n",
    "    print(\"La raíz cuadrada de\", x, \"/\", y, \"es igual a\", z)\n",
    "except ZeroDivisionError:\n",
    "    print(\"No es posible dividir por cero, es indeterminado\")\n",
    "except ValueError:\n",
    "    print(\"Se está intentando calcular la raiz de un número negativo\")\n",
    "except:\n",
    "    print(\"Ups, algo salió mal\")\n",
    "    \n",
    "print('El programa continua, sin detener la ejecución por el error')"
   ]
  },
  {
   "cell_type": "markdown",
   "metadata": {},
   "source": [
    "Observe que si ocurre otro error no especificado con el nombre de las excepciones `ZeroDivisionError` o `ValueError`, se tratará en el bloque `except`."
   ]
  },
  {
   "cell_type": "markdown",
   "metadata": {},
   "source": [
    "## Ejercicio 2. \n",
    "La siguiente función calcula la suma de los elementos de una lista"
   ]
  },
  {
   "cell_type": "code",
   "execution_count": 7,
   "metadata": {},
   "outputs": [],
   "source": [
    "def suma_lista(x):\n",
    "    suma_total=0\n",
    "    for item in x:\n",
    "        numero_float=float(item)\n",
    "        suma_total += numero_float\n",
    "    return suma_total"
   ]
  },
  {
   "cell_type": "code",
   "execution_count": null,
   "metadata": {},
   "outputs": [],
   "source": [
    "# antes de ejecutar este código asegurese de haber ejecutado el bloque anterior\n",
    "#-----------------\n",
    "# Pruebe la función con las siguientes listas:\n",
    "list1 = [1, 2, 3]\n",
    "list2 = ['1', 2.5, '3.0']\n",
    "list3 = ['', '1']\n",
    "list4 = []\n",
    "list5 = ['John', 'Doe', 'was', 'here']\n",
    "nasty_list = [KeyError(), [], dict()]\n",
    "## imprima la suma de los elementos de la lista:\n",
    "print(suma_lista(nasty_list))"
   ]
  },
  {
   "cell_type": "markdown",
   "metadata": {},
   "source": [
    "Asegurese de ejecutar el código anterior y probar la función con las 6 listas propuestas (`list1`, `list2`, `list3`, `list4`, `list5` y `nasty_list`) luego resuelva:\n",
    "\n",
    "* Implemente el manejo de excepciones con el comando `try` para que la función `suma_list` ignore los elementos de la lista que no se pueden convertir a número flotante."
   ]
  },
  {
   "cell_type": "markdown",
   "metadata": {},
   "source": [
    "## Ejercicio 3.\n",
    "\n",
    "Responda de acuerdo con el siguiente código, "
   ]
  },
  {
   "cell_type": "code",
   "execution_count": null,
   "metadata": {},
   "outputs": [],
   "source": [
    "try:\n",
    "  print(x)\n",
    "except:\n",
    "  print(\"Something went wrong\")\n",
    "finally:\n",
    "  print(\"The 'try except' is finished\")"
   ]
  },
  {
   "cell_type": "markdown",
   "metadata": {},
   "source": [
    "1. ¿Por qué se genera una excepción?\n",
    "2. Identificar bajo que condiciones se ejecuta cada bloque de código.\n",
    "3. Ajuste el código para que no se genere un error."
   ]
  },
  {
   "cell_type": "markdown",
   "metadata": {},
   "source": [
    "## Jerarquía de las excepciones\n",
    "\n",
    "`Python 3` define 63 excepciones integradas, la siguiente figura presenta una sección del árbol completo de excepciones. \n",
    "\n",
    "\n",
    "![alt text](images/jerarquia_exceopciones.png)\n",
    "[fuente https://www.netacad.com/](https://www.netacad.com/courses/programming/pcap-programming-essentials-python) \n",
    "\n",
    "Árbol de excepciones (una sección)\n",
    "\n"
   ]
  },
  {
   "cell_type": "markdown",
   "metadata": {},
   "source": [
    "La excepción `ZeroDivisionError` es un caso particular de una excepción más general, llamada `ArithmeticError`, la cual a su vez es un caso particular de la excepción mucho más general `Exception`, y podemos ver que la más general de todas en la imagen es `BaseException`. A Continuación se presenta un ejemplo de código que podemos usar,"
   ]
  },
  {
   "cell_type": "code",
   "execution_count": null,
   "metadata": {},
   "outputs": [],
   "source": [
    "try:\n",
    "    y = 1 / 0\n",
    "except ArithmeticError:\n",
    "    print(\"¡Problema aritmético!\")\n",
    "\n",
    "print(\"FIN.\")"
   ]
  },
  {
   "cell_type": "markdown",
   "metadata": {},
   "source": [
    "Observese que el error generado es `ZeroDivisionError`, sin embargo, dado que este error es del tipo `ArithmeticError`, es posible capturar la excepción utilizando este tipo de excepción. \n",
    "\n",
    "> En lo posible es mejor tratar los errores con el manejo de excepciones más particular, porque se puede informar mejor al usuario sobre el error. Esto es, en la imagen del arbol anterior, capturar la excepción con el nombre dado en el nivel más inferior del arbol."
   ]
  },
  {
   "cell_type": "code",
   "execution_count": null,
   "metadata": {},
   "outputs": [],
   "source": [
    "try:\n",
    "    y = 1 / 0\n",
    "except ZeroDivisionError:\n",
    "    print(\"¡División entre Cero!\")\n",
    "except ArithmeticError:\n",
    "    print(\"¡Problema aritmético!\")\n",
    "\n",
    "print(\"FIN.\")"
   ]
  },
  {
   "cell_type": "markdown",
   "metadata": {},
   "source": [
    "Observe ahora que en el manejo de excepciones del código anterior, es redundante porque se estaría capturando en dos bloques de código `except` el mismo error. Python ejecuta el primer bloque de código que se encuentra. __Así que el orden en el que se programen las excepciones importa__."
   ]
  },
  {
   "cell_type": "markdown",
   "metadata": {},
   "source": [
    "## Ejercicio 4\n",
    "\n",
    "1. Ejecute el código anterior y reporte el mensaje obtenido\n",
    "2. Intercambie el orden de las excepciones `ZeroDivisionError` y `ArithmeticError`. Explique la salida del código propuesto.\n"
   ]
  },
  {
   "cell_type": "markdown",
   "metadata": {},
   "source": [
    "### Reaccionar a varias excepciones con el mismo comportamiento"
   ]
  },
  {
   "cell_type": "markdown",
   "metadata": {},
   "source": [
    "Si el código para reaccionar a diferentes excepciones es el mismo puedo usar el siguiente código, donde `exc1` es el nombre de una excepción y `exc2` es el nombre de otra excepción, es decir las puedo nombrar en una tupla (separandolas por comas).  "
   ]
  },
  {
   "cell_type": "markdown",
   "metadata": {},
   "source": [
    "``` Python\n",
    "try:\n",
    "    :\n",
    "    :\n",
    "except (exc1, exc2):\n",
    "    :\n",
    "    :\n",
    "```"
   ]
  },
  {
   "cell_type": "markdown",
   "metadata": {},
   "source": [
    "## ¿Cómo generar excepciones?\n",
    "\n",
    "La instrucción `raise` genera la excepción especificada como si fuese generada de manera natural,\n"
   ]
  },
  {
   "cell_type": "code",
   "execution_count": null,
   "metadata": {},
   "outputs": [],
   "source": [
    "def badFun(n):\n",
    "    raise ZeroDivisionError\n",
    "\n",
    "try:\n",
    "    badFun(0)\n",
    "except ArithmeticError:\n",
    "    print(\"¿Que pasó? ¿Un error?\")\n",
    "\n",
    "print(\"FIN.\")"
   ]
  },
  {
   "cell_type": "markdown",
   "metadata": {},
   "source": [
    "La instrucción `raise` permite:\n",
    "\n",
    "Simular excepciones reales (por ejemplo, para probar tu estrategia de manejo de excepciones).\n",
    "Parcialmente manejar una excepción y hacer que otra parte del código sea responsable de completar el manejo."
   ]
  },
  {
   "cell_type": "markdown",
   "metadata": {},
   "source": [
    "De esta manera, puedes probar tu rutina de manejo de excepciones sin forzar al código a hacer cosas incorrectas."
   ]
  },
  {
   "cell_type": "markdown",
   "metadata": {},
   "source": [
    "## Ejercicio 5\n",
    "\n",
    "Basado en el código anterior, simular dos excepciones del árbol de excepciones (ver figura) con el comando `raise`. \n",
    "\n",
    "Defina dos funciones con nombres ``handle_nombreDeExcepcion()``. Donde `nombreDeExcepcion` es el nombre de las excepciones tomadas de la imagen que contiene una sección del árbol de excepciones en el inicio de esta libreta.\n",
    "\n",
    "A continuación se da una plantilla que usted debe completar y hacerla funcional para las dos excepciones seleccionadas"
   ]
  },
  {
   "cell_type": "code",
   "execution_count": null,
   "metadata": {},
   "outputs": [],
   "source": [
    "def handle_nombreDeExcepcion():\n",
    "    raise < escriba nombreDeExcepcion>\n",
    "\n",
    "try:\n",
    "    handle_nombreDeExcepcion()\n",
    "except:\n",
    "    print(\"estoy generando una excepción nombreDeExcepcion\")"
   ]
  },
  {
   "cell_type": "markdown",
   "metadata": {},
   "source": [
    "## ``Assert`` (afirmar o comprobar)"
   ]
  },
  {
   "cell_type": "code",
   "execution_count": null,
   "metadata": {},
   "outputs": [],
   "source": [
    "import math\n",
    "\n",
    "x = float(input(\"Ingresa un numero: \"))\n",
    "assert x >= 0.0 # assert(x>=0)\n",
    "\n",
    "x = math.sqrt(x)\n",
    "\n",
    "print(x)"
   ]
  },
  {
   "cell_type": "markdown",
   "metadata": {},
   "source": [
    "> Las aserciones no reemplazan las excepciones ni validan los datos, son suplementos.\n",
    "\n",
    "En el código anterior en la línea `assert`, si no se cumple la expresión `x >= 0`, se genera una excepción `AssertionError` y se indica la línea donde se generó.  \n",
    "\n",
    "El comando `assert` genera una excepción del tipo ``AssertionError`` y asegura que el código no produzca resultados no válidos y muestra claramente la naturaleza de la falla."
   ]
  },
  {
   "cell_type": "markdown",
   "metadata": {},
   "source": [
    "## Excepciones útiles\n",
    "\n",
    "A continuación se presentan algunas excepciones que pueden ser utilizadas. \n",
    "\n",
    "```Python\n",
    "IndexError\n",
    "KeyboardInterrupt\n",
    "LookupError\n",
    "MemoryError\n",
    "OverflowError\n",
    "ImportError\n",
    "KeyError\n",
    "```"
   ]
  },
  {
   "cell_type": "markdown",
   "metadata": {},
   "source": [
    "## Ejercicio 6\n",
    "\n",
    "Consulte el error que genera las excepciones anteriores. La evidencia que debe presentar consiste de un documento (e.g. word, pdf) donde se indiquen cuando se generan y el uso más común de cada uno de las excepciones nombradas."
   ]
  },
  {
   "cell_type": "markdown",
   "metadata": {},
   "source": [
    "## Ejercicio 7\n",
    "\n",
    "Identificar en el módulo `tic-tac-toe_**` y el programa `main_**`, los posibles errores que se pueden generar y editar el código para manejar las excepciones. ¿Por ejemplo, qué ocurre en el programa si al usar la función  `DisplayBoard(board)` el parámetro `board` no es del tipo que se espera?.  Por ejemplo probar la función cuando `board = 1`. \n",
    "\n",
    "Revise cada una de las funciones programadas y edite el código para manejar posibles errores, indicando al usuario cuál es el error que se está generando."
   ]
  }
 ],
 "metadata": {
  "interpreter": {
   "hash": "916dbcbb3f70747c44a77c7bcd40155683ae19c65e1c03b4aa3499c5328201f1"
  },
  "kernelspec": {
   "display_name": "Python 3.8.10 64-bit",
   "language": "python",
   "name": "python3"
  },
  "language_info": {
   "codemirror_mode": {
    "name": "ipython",
    "version": 3
   },
   "file_extension": ".py",
   "mimetype": "text/x-python",
   "name": "python",
   "nbconvert_exporter": "python",
   "pygments_lexer": "ipython3",
   "version": "3.8.10"
  },
  "orig_nbformat": 4
 },
 "nbformat": 4,
 "nbformat_minor": 2
}
