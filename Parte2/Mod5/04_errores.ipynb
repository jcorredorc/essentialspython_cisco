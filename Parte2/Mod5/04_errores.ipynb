{
 "cells": [
  {
   "cell_type": "markdown",
   "metadata": {},
   "source": [
    "# Manejo de errores en Python\n",
    "\n",
    "## Cualquier cosa que pueda salir mal, saldrá mal. Ley de Murphy\n"
   ]
  },
  {
   "cell_type": "markdown",
   "metadata": {},
   "source": [
    "Miremos el siguiente código"
   ]
  },
  {
   "cell_type": "code",
   "execution_count": null,
   "metadata": {},
   "outputs": [],
   "source": [
    "import math\n",
    "\n",
    "x = float(input(\"ingresa el valor de x: \"))\n",
    "y=math.sqrt(x)\n",
    "print(\"La raíz cuadrada de\", x, \"es igual a\", y)"
   ]
  },
  {
   "cell_type": "markdown",
   "metadata": {},
   "source": [
    "En el anterior código hay dos formas posibles de que el código genere un error:\n",
    "\n",
    "1. Si el usuario ingresa texto, u otro tipo de dato que no se pueda convertir a un número flotante, el programa se detiene y genera un error.\n",
    "\n",
    "2. La raíz cuadrada `sqrt()` genera un error si el argumento es un número negativo. Es decir, que si el usuario ingresa un número negativo se genera un error.\n",
    "\n",
    "Probar los dos casos en el código anterior."
   ]
  },
  {
   "cell_type": "markdown",
   "metadata": {},
   "source": [
    "## Excepción\n",
    "\n",
    "Cuando se hace algo erróneo o no permitido, Python detiene el programa y crea un tipo especial de datos, llamado __excepción__. Esto se conoce como lanzar una excepción.\n",
    "\n",
    "Si se atiende la __excepción__ y es manejada apropiadamente, el programa puede reanudarse y su ejecución puede continuar, de lo contrario, el programa termina abruptamente y se genera un mensaje de error en la consola de Python, tal como en el caso anterior.\n",
    "\n",
    "Las herramientas disponibles en Python para manejar las __excepciones__ dependen del tipo de error y los nombres que se le dan. Por ejemplo, en el caso anterior, cuando introducimos un número negativo para calcular la raíz cuadrada se genera el error  `ValueError: math domain error`, donde el nombre de la excepción es `ValueError`\n",
    "\n",
    "Pruebe los siguientes codigos, e identifique el nombre de las excepciones que se generan."
   ]
  },
  {
   "cell_type": "code",
   "execution_count": null,
   "metadata": {},
   "outputs": [],
   "source": [
    "valor = 1\n",
    "valor /= 0"
   ]
  },
  {
   "cell_type": "code",
   "execution_count": null,
   "metadata": {},
   "outputs": [],
   "source": [
    "lista=[]\n",
    "x=lista[0]"
   ]
  },
  {
   "cell_type": "markdown",
   "metadata": {},
   "source": [
    "## ¿Cómo se manejan las excepciones?\n",
    "\n",
    "Observe el siguiente código, donde se intenta asegurar que no permite hacer una división por cero. Recuerde que dividir en cero no tiene un resultado bien definido (es indefinido)."
   ]
  },
  {
   "cell_type": "code",
   "execution_count": null,
   "metadata": {},
   "outputs": [],
   "source": [
    "primerNumero = int(input(\"Ingresa el primer numero: \"))\n",
    "segundoNumero = int(input(\"Ingresa el segundo numero: \"))\n",
    "\n",
    "if segundoNumero != 0:\n",
    "    print(primerNumero / segundoNumero)\n",
    "else:\n",
    "    print(\"Esta operacion no puede ser realizada.\")\n",
    "\n",
    "print(\"FIN.\")"
   ]
  },
  {
   "cell_type": "markdown",
   "metadata": {},
   "source": [
    "Es cierto que esta forma puede parecer la más natural y comprensible, pero en realidad, este método no facilita la programación. Todas estas revisiones pueden hacer el código demasiado grande e ilegible.\n",
    "\n",
    "Python prefiere un enfoque completamente diferente.\n",
    "\n"
   ]
  },
  {
   "cell_type": "markdown",
   "metadata": {},
   "source": [
    "## try\n",
    "\n",
    "Existe el comando `try`, en español tratar o intentar, que permite manejar las excepciones de la siguiente forma:"
   ]
  },
  {
   "cell_type": "code",
   "execution_count": null,
   "metadata": {},
   "outputs": [],
   "source": [
    "import math\n",
    "\n",
    "try:\n",
    "    x = float(input(\"ingresa el valor de x: \"))\n",
    "    y=math.sqrt(x)\n",
    "    print(\"La raíz cuadrada de\", x, \"es igual a\", y)\n",
    "except:\n",
    "    print(\"algo salio mal\")\n",
    "    \n",
    "print('El programa continua, sin detener la ejecución por el error')"
   ]
  },
  {
   "cell_type": "markdown",
   "metadata": {},
   "source": [
    "En el código anterior: Se intenta por medio de `try` ejecutar todo el código que esta indentado, si no hay errores todas las instrucciones se ejecutan con éxito y continua la ejecución sin ejecutar el bloque `except`. Si se genera un error dentro del bloque `try` se maneja la excepción en el bloque de código `except`, es decir se deja de ejecutar el bloque `try` y salta la ejecución al bloque `except`."
   ]
  },
  {
   "cell_type": "markdown",
   "metadata": {},
   "source": [
    "## ¿Cómo identificar que ocurrió?\n",
    "\n",
    "En el código anterior no sabemos cuál fue el error que generó la excepción. Veamos cómo podemos reaccionar de forma adecuada dependiendo del error."
   ]
  },
  {
   "cell_type": "code",
   "execution_count": null,
   "metadata": {},
   "outputs": [],
   "source": [
    "import math\n",
    "\n",
    "try:\n",
    "    x = float(input(\"ingresa el valor de x: \"))\n",
    "    y= float(input(\"ingresa el valor de y: \"))\n",
    "    z=math.sqrt(x/y)\n",
    "    print(\"La raíz cuadrada de\", x, \"/\", y, \"es igual a\", z)\n",
    "except ZeroDivisionError:\n",
    "    print(\"No es posible dividir por cero, es indeterminado\")\n",
    "except ValueError:\n",
    "    print(\"Se está intentando calcular la raiz de un número negativo\")\n",
    "except:\n",
    "    print(\"Ups, algo salió mal\")\n",
    "    \n",
    "print('El programa continua, sin detener la ejecución por el error')"
   ]
  },
  {
   "cell_type": "markdown",
   "metadata": {},
   "source": [
    "Observe que si ocurre otro error no especificado con el nombre de las excepciones `ZeroDivisionError` o `ValueError`, se tratará en el bloque `except`."
   ]
  },
  {
   "cell_type": "markdown",
   "metadata": {},
   "source": [
    "## Ejercicio 1. "
   ]
  },
  {
   "cell_type": "markdown",
   "metadata": {},
   "source": [
    "## Ejercicio 2\n",
    "\n",
    "Identificar en el módulo `tic-tac-toe_**` y el programa `main_**`, los posibles errores que se pueden generar y editar el código para manejar las excepciones. ¿Por ejemplo, que ocurre en el programa si al usar la función  `DisplayBoard(board)` el parámetro `board` no es del tipo que se espera?. Revise cada una de las funciones programadas."
   ]
  }
 ],
 "metadata": {
  "interpreter": {
   "hash": "916dbcbb3f70747c44a77c7bcd40155683ae19c65e1c03b4aa3499c5328201f1"
  },
  "kernelspec": {
   "display_name": "Python 3.8.10 64-bit",
   "language": "python",
   "name": "python3"
  },
  "language_info": {
   "codemirror_mode": {
    "name": "ipython",
    "version": 3
   },
   "file_extension": ".py",
   "mimetype": "text/x-python",
   "name": "python",
   "nbconvert_exporter": "python",
   "pygments_lexer": "ipython3",
   "version": "3.8.10"
  },
  "orig_nbformat": 4
 },
 "nbformat": 4,
 "nbformat_minor": 2
}
