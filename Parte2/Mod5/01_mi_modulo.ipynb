{
 "cells": [
  {
   "cell_type": "markdown",
   "metadata": {},
   "source": [
    "## Crear un primer módulo\n",
    "\n",
    "Un módulo es un contenedor lleno de funciones - puedes empaquetar tantas funciones como desees en un módulo y distribuirlo.\n",
    "\n",
    "\n",
    "![alt text](images/func_modulos_pkg.png)\n",
    "\n",
    "Un paquete (package) es el contenedor muchos módulos.\n"
   ]
  },
  {
   "cell_type": "markdown",
   "metadata": {},
   "source": [
    "## Ejemplo 1\n",
    "\n",
    "1. Crear un archivo con nombre `module.py` y otro con nombre `main.py`, los dos se deben ubicar en la misma carpeta.\n",
    "\n",
    "2. En el archivo `main.py` escribir la siguiente linea de código,\n",
    "\n",
    "`import module`\n",
    "\n",
    "3. Ejecutar el archivo `main.py`\n",
    "\n",
    "4. Si todo esta bien, no se obtiene nada. Pero observe que se ha creado una nueva carpeta `__pycache__`\n",
    "\n",
    "5. Observar el contenido de esta carpeta. \n",
    "\n",
    "> El nombre del archivo es el mismo que el de su módulo. La parte posterior al primer punto dice qué implementación de Python ha creado el archivo (CPython) y su número de versión. La ultima parte (pyc) viene de las palabras Python y compilado.\n",
    "\n",
    "> Puedes mirar dentro del archivo: el contenido es completamente ilegible para los humanos. Tiene que ser así, ya que el archivo está destinado solo para uso de Python.\n",
    "\n",
    "> Cuando Python importa un módulo por primera vez, traduce el contenido a una forma \"semi\" compilada. El archivo no contiene código en lenguaje máquina: es código semi-compilado interno de Python, listo para ser ejecutado por el intérprete de Python. Como tal archivo no requiere tantas comprobaciones como las de un archivo fuente, la ejecución comienza más rápido y también se ejecuta más rápido."
   ]
  },
  {
   "cell_type": "markdown",
   "metadata": {},
   "source": [
    "## Ejemplo 2\n",
    "\n",
    "1. Modificar el archivo `module.py`, incluir ahora las lineas\n",
    "\n",
    "```Python\n",
    "print(\"Me gusta ser un módulo\")\n",
    "print(__name__)\n",
    "\n",
    "```\n",
    "\n",
    "2. Ejecutar el archivo `module.py`\n",
    "\n",
    "\n",
    "* Observese que se ha generado una variable de nombre `__name__` que toma el nombre de `__main__`\n",
    "\n",
    "\n",
    "3. Ahora ejecutar el archivo `main.py`, observe que en este archivo se está importando el modulo `module` y se  debería obtener lo siguiente,\n",
    "\n",
    "```Python\n",
    "Me gusta ser un módulo\n",
    "module\n",
    "```\n",
    "\n",
    "4. Como conclusión podemos decir que:\n",
    "\n",
    "* Cuando se ejecuta un archivo directamente, su variable __name__ se establece a __main__.\n",
    "* Cuando un archivo se importa como un módulo, su variable __name__ se establece al nombre del archivo (excluyendo a .py).\n",
    "\n",
    "\n",
    "\n"
   ]
  },
  {
   "cell_type": "markdown",
   "metadata": {},
   "source": [
    "# Uso de la varible `__main__`\n",
    "\n",
    "La variable `__main__`  permite detectar el contexto en el cual se activó el código del script (programa).\n",
    "\n",
    "Generalmente, se usa esta variable para hacer pruebas de las funciones contenidas en los módulos, de tal forma que cuando se ejecutan directamente, se pude hacer depuración del módulo. \n",
    "\n",
    "Cada vez que modifiques alguna de estas funciones, simplemente puedes ejecutar el módulo para asegurarte de que sus enmiendas no estropeen el código. Estas pruebas se omitirán cuando el código se importe como un módulo."
   ]
  },
  {
   "cell_type": "markdown",
   "metadata": {},
   "source": [
    "## Ejemplo  3\n",
    "\n",
    "1.  Modificar el archivo `module.py`. Comentar o borrar las lineas del archivo y reemplazarlas por:\n",
    "\n",
    "```Python\n",
    "__counter = 0\n",
    "\n",
    "if __name__ == \"__main__\":\n",
    "    print(\"Depurando el codigo del modulo\")\n",
    "else:\n",
    "    print(\"este modulo esta siendo importado\")\n",
    "```\n"
   ]
  },
  {
   "cell_type": "markdown",
   "metadata": {},
   "source": [
    "2. Ejecutar el archivo `module.py`\n",
    "\n",
    "observe que se ejecuta el código correspondiente a la variable `__name__` igual a `__main__`"
   ]
  },
  {
   "cell_type": "markdown",
   "metadata": {},
   "source": [
    "3. Ajuste el archivo `main.py` para que se vea de la siguiente manera,\n",
    "\n",
    "```Python\n",
    "import module\n",
    "\n",
    "print(module.__counter)\n",
    "\n",
    "```\n",
    "\n",
    "4. Ejecute el archivo `main.py` y observe que:\n",
    " \n",
    " * Al importar el módulo, la variable `__main__`  toma el nombre del módulo en este caso `module`, por este motivo se debería imprimir la frase `este modulo esta siendo importado`.\n",
    "\n",
    " * El programa `main.py` accede a la variable `__count`. Es decir se pueden acceder a las variables del módulo. Sin embargo, si estas varibles se modifican desde el archivo (programa) que usa el módulo, esta modificación puede cambiar el comportamiento del módulo, lo cual pude ser perjudicial. No hay forma de restringir este comportamiento en python.\n",
    "\n",
    " > Por convensión las varibles que empiezan con un guión al piso `_` o dos `__` no se deben modificar. Los usuarios del módulo pueden obedecerlo o no. Esto se debe respetar."
   ]
  },
  {
   "cell_type": "markdown",
   "metadata": {},
   "source": [
    "## Ejercicio\n",
    "\n",
    "1. Como evidencia debe entregar los archivos solicitados al final de la sesión, donde se presente la realización de los ejemplos presentados anteriormente en su instalación de python.\n",
    "\n",
    "2. Reproduzca el procedimiento anterior con el código que usted a realizado en la actividad del `tic-tac-toe`. Cree dos archivos, `tic_tac_toe_**.py` y `main_**.py`, donde debe reemplazar los caracteres `**` por los __dos últimos digitos de su documento de identidad__. Por comodidad, de ahora en adelante se nombran los archivos sin los ultimos caraceres, sin embargo, para aprobar deben tener el nombre de acuerdo con la regla para los caracters `_**`.\n",
    "\n",
    "* El primer archivo, `tic_tac_toe.py`, es una implementación del módulo, allí debe esta la implementación de todas las funciones que se han programado. Así como el código de prueba de las funciones del módulo. \n",
    "\n",
    "* En el segundo, `main.py`, se deben usar las funciones y crear la dinámica del juego, para este proposito se debe importar el modulo `tic_tac_toe` de la siguiente manera\n",
    "\n",
    "```Python\n",
    "import tic_tac_toe_** as triqui_**\n",
    "\n",
    "    < escriba codigo del juego >\n",
    "```\n"
   ]
  }
 ],
 "metadata": {
  "interpreter": {
   "hash": "efbe9435cc8db3e73b5a78638a2554badc033fad4cda795f41c93f6f7edda0a4"
  },
  "kernelspec": {
   "display_name": "Python 3.9.4 64-bit",
   "language": "python",
   "name": "python3"
  },
  "language_info": {
   "name": "python",
   "version": "3.9.4"
  },
  "orig_nbformat": 4
 },
 "nbformat": 4,
 "nbformat_minor": 2
}
