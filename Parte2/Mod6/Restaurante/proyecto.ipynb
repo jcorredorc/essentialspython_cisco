{
 "cells": [
  {
   "cell_type": "markdown",
   "metadata": {},
   "source": [
    "# Proyecto final pyhton 2\n",
    "\n",
    "## Ejercicio:\n",
    "1. Crear una clase para restaurantes. La clase debe contener tres atributos (variables) donde se almacenen el nombre del restaurante, un menú (almacenar en una lista) con 5 platos especiales que se ofrecen en el restaurante y el número de mesas que dispone el restaurante. Debe contener dos métodos (funciones) uno que indique un mensaje de bienvenida al comensal y otro método que imprima el horario de funcionamiento del restaurante.\n",
    "\n",
    "El mensaje de bienvenida depende de la hora cuando se use la función. Si es en horas de la mañana debe decir buenos días al restaurante `nombre_restaurante`, si son horas de la tarde o noches, debe ser consecuente. \n",
    "\n",
    "2. Crear dos restaurantes diferentes (instanciar la clase) e imprimir  todos los valores de variables y usar los métodos solicitados en el punto anterior.\n",
    "\n",
    "> Consultar módulo `datetime`."
   ]
  },
  {
   "cell_type": "markdown",
   "metadata": {},
   "source": [
    "## Ejercicio\n",
    "\n",
    "1. En el ejercicio anterior, del restaurante. Convierta las variables definidas en privadas y codifique los métodos (funciones) que considere necesarias para accederlas o modificarlas.\n",
    "\n",
    "2. Crear una clase Usuario. Debe tener al menos dos atributos, nombre y apellido. La clase debe contener además los atributos típicos de un usuario. Debe tener un método `descripcion_usuario` que imprime en pantalla un resumen de los atributos (variables creadas). Otro método es `mensaje_usuario()` que debe imprimir un mensaje de bienvenida con los datos de usuario.\n",
    "\n",
    "3. Consultar qué son las **variables de clase**. Crear una variable de este tipo para contar cuantos usuarios se crean por medio de la clase Usuario. (ver [link1](https://www.youtube.com/watch?v=0n1GSt8ZFJ8), [link2](https://es.acervolima.com/como-contar-el-numero-de-instancias-de-una-clase-en-python/), [ejemplo](Ejemplos/05_fundamentos_prooo.py) y el numeral 6.1.3.3 del [curso python](https://www.netacad.com/courses/programming/pcap-programming-essentials-python))"
   ]
  },
  {
   "cell_type": "markdown",
   "metadata": {},
   "source": [
    "## Ejercicio\n",
    "\n",
    "Considerando las clases, restaurante y usuario, creadas en los ejercicios anteriores, complemente su código considerando:\n",
    "\n",
    "1. El dueño del restaurante necesita llevar un seguimiento de los usuarios y los pedidos que hace cada comensal.\n",
    "\n",
    "2. Así mismo requiere que se genere la factura del pedido de cada usuario.\n",
    "\n",
    "Para este requerimiento, usted debe programar:\n",
    "\n",
    "1. En la clase `Usuario`:\n",
    "Crear dos subclases una que represente al administrador del restaurante (puede considerar que es un usuario que tiene privilegios de administrador) y otro que represente empleados del restaurante, por ejemplo mesero, cajera, cocinero, etc.\n",
    "\n",
    "    * Crear tres subclases una para administrador, cliente y otra para empleado, por ejemplo mesero, cajera, cocinero, etc.\n",
    "\n",
    "    * Ajuste los atributos (las variables) para indicar que privilegios tiene cada usuario. Cree un atributo que almacene una lista con los privilegios que tiene cada usuario con cadenas como \"agregar usuario\", \"crear orden\", \"imprimir factura\", \"hacer reserva\". Así mismo crear un método (función) que muestre que privilegios tiene.\n",
    "\n",
    "    * En las clases relacionadas con `Usuario` se debe asegurar (por medio de manejo de excepciones) que los datos ingresados sean válidos.\n",
    "\n",
    "    * En la clase cliente crear un atributo donde se guarda la orden que realiza y los precios de cada producto consumido.\n",
    "\n",
    "2.  En la clase `Restaurante`: \n",
    "    \n",
    "    * Crear un método que permita tomar la orden de un usuario del restaurante. Se debe utilizar el atributo del comensal respectivo y guardar el número de la orden. El número de la orden se debe generar de forma consecutiva automáticamente. Finalmente debe imprimir la factura con el nombre del usuario, el número de la orden, la orden realizada, con los precios de cada producto y el total, incluyendo el valor de IVA pagado.\n",
    "\n",
    "\n",
    "3.  Crear un paquete conformado por dos módulos. El primer módulo (un archivo .py) debe contener la clase restaurante y el segundo módulo (otro archivo .py) debe contener la clase Usuario. Finalmente se debe crear un archivo `main.py` que importe el paquete y haga uso de las clases. \n",
    "\n",
    "El archivo `main.py` debe importar los dos módulos restaurante y usuario. \n",
    "\n",
    "Crear un restaurante, crear dos comensales, un cajero, un mesero y un administrador. Para cada comensal se debe ingresar una orden, esta orden la debe ingresar el cajero del restaurante. En seguida se debe poder imprimir la factura de cada usuario. \n",
    "\n",
    "> __Nota :__ para aprobar la evidencia debe presentar su solución incluyendo el punto 3.\n",
    "\n",
    "\n",
    "El siguiente es un ejemplo, solo para mostrar como se vería el archivo `main.py`, pero se debe ajustar a la implementación de cada aprendiz."
   ]
  },
  {
   "cell_type": "markdown",
   "metadata": {},
   "source": [
    "### Ejemplo de prueba del paquete (debe ajustarlo a la implementación que ud hizo)\n",
    "\n",
    "```Pyhton\n",
    "\n",
    "from packge_name import ????\n",
    "\n",
    "# --------------------------------------------\n",
    "# crear usuarios e imprimir privilegios ...\n",
    "# --------------------------------------------\n",
    "# \n",
    "input(\"Ingrese datos del cliente: \") ...\n",
    "....\n",
    "cliente = users.Users(nombre_cliente1, apellido_cliente1, id_cliente1) # 134 es el id del usuario (C.C, DI, etc)\n",
    "cliente2 = ...\n",
    "cajero = ...\n",
    "#...\n",
    "#...\n",
    "# -------------------------------------------------\n",
    "# Crear restaurante, realizar e imprimir ordenes \n",
    "# -------------------------------------------------\n",
    "\n",
    "mi_restaurante = restaurante.Restaurante(\n",
    "    \"bnGusto\", \"tipica\", 3, [\"arroz\", \"papa\"])\n",
    "cliente.hacerpedido() # metodo que solicita ingresar productos y precios\n",
    "mi_restaurante.order(cliente) # imprimir orden con numero de factura y \n",
    "....\n",
    "....\n",
    "cliente2.hacerpedido()# ...\n",
    "mi_restaurante.order(cliente2)\n",
    "....\n",
    "....\n",
    "```\n",
    "La última línea de código debe imprimir la factura con los datos del usuario y los datos de la orden, con precios, total e IVA."
   ]
  }
 ],
 "metadata": {
  "language_info": {
   "name": "python"
  },
  "orig_nbformat": 4
 },
 "nbformat": 4,
 "nbformat_minor": 2
}
