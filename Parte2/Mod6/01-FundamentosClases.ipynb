{
 "cells": [
  {
   "cell_type": "markdown",
   "metadata": {},
   "source": [
    "# Programación Orientada a Objetos\n",
    "\n",
    "La Programación Orientada a Objetos (POO) permite que el código sea reutilizable, organizado y fácil de mantener. \n",
    "Sigue el principio de desarrollo de software utilizado por muchos programadores DRY (Don’t Repeat Yourself), para evitar duplicar el código y crear de esta manera programas eficientes [link](https://profile.es/blog/que-es-la-programacion-orientada-a-objetos/).\n"
   ]
  },
  {
   "cell_type": "markdown",
   "metadata": {},
   "source": [
    "Los objetos los podemos agrupar en clases. Por ejemplo el gato, el perro, la vaca y el humano pertenecen a la clase mamiferos. Todos tienen características similares.\n",
    "\n",
    "Observe que el perro también es una clase que agrupa animales domésticos que tienen cuatro patas, dos orejas, dos ojos, ladran y hacen trucos como dar la pata o girar y estan cubiertos de pelo (la mayoria), entre otras caracteríssticas que los definen. \n",
    "\n",
    "Vamos a mostrar el concepto de clase por medio de un ejemplo. La primera clase que vamos a crear es la de __perro__."
   ]
  },
  {
   "cell_type": "code",
   "execution_count": 4,
   "metadata": {},
   "outputs": [],
   "source": [
    "class Perro():\n",
    "    \"\"\"Modelo de clase Perro.\"\"\"\n",
    "    def __init__(self, nombre, edad):\n",
    "        \"\"\"Inicializamos el nombre y la edad.\"\"\"\n",
    "        self.name = nombre\n",
    "        self.age = edad\n",
    "        \n",
    "    def sit(self):\n",
    "        \"\"\"Simular truco sentarse \"\"\"\n",
    "        print(self.name.title() + \" esta sentando.\")\n",
    "\n",
    "    def roll_over(self):\n",
    "        \"\"\"Simular truco girar\"\"\"\n",
    "        print(self.name.title() + \" está girando!\")\n",
    "        \n"
   ]
  },
  {
   "cell_type": "markdown",
   "metadata": {},
   "source": [
    "Observe que por convención para nombrar las clases la primera letra de cada palabra se usa en mayúscula.\n",
    "\n",
    "En la clase `Perro` tenemos tres métodos, los métodos en POO son funciones que puede realizar la clase. En cuanto a programación los métodos se puede ver como funciones que estan definidas dentro de la clase, lo único que los difiere de una función son como se llama o usan los métodos.\n",
    "\n",
    "Un primer método de la clase `Perro` es `sit()`,  que implementa una acción que puede hacer la clase, en este caso el perro puede sentarse, otro es ``roll_over()`` que indica la habilidad o posibilidad del perro de girar. Finalmente hay otro método `__init__()`, que se va a utilizar más adelante, para crear el perro cuando necesitemos crear una instancia (objeto de la clase).\n",
    "\n",
    "Observe que `__init__()`, recibe 3 argumentos, `self`, `name` y `age`. \n",
    "\n",
    "El primer argumento `self` hace referencia al mismo objeto creado (__self__ en inglés es __uno mismo__). Más adelante se aclara esta idea, con el ejemplo.\n",
    "\n",
    "Por otro lado, `name` y `age` van a permitir almacenar el nombre del perro y la edad del perro."
   ]
  },
  {
   "cell_type": "markdown",
   "metadata": {},
   "source": [
    "## ¿Cómo usar las clases?\n",
    "\n",
    "Hasta ahora hemos definido la clase pero aun no hemos creado ningún perro. Ahora vamos a crear una instancia o instaciar una clase. \n",
    "\n",
    "> Piense en una clase como un conjunto de instrucciones (receta) para hacer una instancia (objeto)\n",
    "\n",
    "A continuación creamos dos perros, esto es lo que se conoce como instancia de la clase Perro"
   ]
  },
  {
   "cell_type": "code",
   "execution_count": 5,
   "metadata": {},
   "outputs": [
    {
     "name": "stdout",
     "output_type": "stream",
     "text": [
      "El nombre de mi perro es Firulais.\n",
      "Mi perro tiene 6 años.\n",
      "Firulais esta sentando.\n",
      "\n",
      "El nombre del perro del barrio es Layca.\n",
      "El perro del barrio tiene 3 años.\n",
      "Layca está girando!\n"
     ]
    }
   ],
   "source": [
    "\n",
    "mi_perro = Perro('firulais', 6)\n",
    "perro_cuadra = Perro('layca', 3)\n",
    "\n",
    "print(\"El nombre de mi perro es \" + mi_perro.name.title() + \".\")\n",
    "print(\"Mi perro tiene \" + str(mi_perro.age) + \" años.\")\n",
    "mi_perro.sit()\n",
    "\n",
    "print(\"\\nEl nombre del perro del barrio es \" + perro_cuadra.name.title() + \".\")\n",
    "print(\"El perro del barrio tiene \" + str(perro_cuadra.age) + \" años.\")\n",
    "perro_cuadra.roll_over()"
   ]
  },
  {
   "cell_type": "markdown",
   "metadata": {},
   "source": [
    "Observe que cuando creamos un objeto de tipo perro (cualquier objeto), lo que sucede es que automáticamente se ejecuta el método `__init__()`, asignando al objeto el nombre y la edad. De igual manera, cada perro (objeto) tiene acceso a todos los métodos definidos en la clase, es decir cada perro creado puede sentarse y girar.\n"
   ]
  },
  {
   "cell_type": "markdown",
   "metadata": {},
   "source": [
    "## Ejercicio:\n",
    "1. Crear una clase para restaurantes. La clase debe contener tres atributos (variables) donde se almacenen el nombre del restaurante, un menú (almacenar en una lista) con 5 platos especiales que se ofrecen en el restaurante y el número de mesas que dispone el restaurante. Debe contener dos métodos (funciones) uno que indique un mensaje de bienvenida al comensal y otro método que imprima el horario de funcionamiento del restaurante.\n",
    "\n",
    "El mensaje de bienvenida depende de la hora cuando se use la función. Si es en horas de la mañana debe decir buenos días al restaurante `nombre_restaurante`, si son horas de la tarde o noches, debe ser consecuente. \n",
    "\n",
    "2. Crear dos restaurantes diferentes (instanciar la clase) e imprimir  todos los valores de variables y usar los métodos solicitados en el punto anterior.\n",
    "\n",
    "> Consultar módulo `datetime`"
   ]
  },
  {
   "cell_type": "markdown",
   "metadata": {},
   "source": [
    "## Variables privadas\n",
    "\n",
    "Observe que es posible que usted no quisiera que cualquiera modifique el nombre de su perro. Con cualquiera nos referimos a quien usa la clase `Perro()`. Fíjese que se puede mofificar cualquier parámetro de la clase de la siguiente manera. "
   ]
  },
  {
   "cell_type": "code",
   "execution_count": null,
   "metadata": {},
   "outputs": [],
   "source": [
    "mi_perro.name = \"Hercules\"\n",
    "print(\"Han cambiado el nombre de mi perro a \" + mi_perro.name)"
   ]
  },
  {
   "cell_type": "markdown",
   "metadata": {},
   "source": [
    "En algunos casos necesitamos que algunas variables no sean accesibles a cualquiera que use nuestra clase. Cuando necesitamos que una variable sea privada y no se pueda modificar debemos definirla con un nombre que inicie con dos caracteres de barras al piso `__`"
   ]
  },
  {
   "cell_type": "markdown",
   "metadata": {},
   "source": [
    "Para hacer las variables nombre y edad privadas las definimos como en el siguiente código:"
   ]
  },
  {
   "cell_type": "code",
   "execution_count": 34,
   "metadata": {},
   "outputs": [],
   "source": [
    "class Perro():\n",
    "    \"\"\"Modelo de clase Perro.\"\"\"\n",
    "    def __init__(self, nombre, edad):\n",
    "        \"\"\"Inicializamos el nombre y la edad.\"\"\"\n",
    "        self.__name = nombre\n",
    "        self.__age = edad\n",
    "        \n",
    "    def sit(self):\n",
    "        \"\"\"Simular truco sentarse \"\"\"\n",
    "        print(self.__name.title() + \" esta sentando.\")\n",
    "\n",
    "    def roll_over(self):\n",
    "        \"\"\"Simular truco girar\"\"\"\n",
    "        print(self.__name.title() + \" está girando!\")"
   ]
  },
  {
   "cell_type": "code",
   "execution_count": 36,
   "metadata": {},
   "outputs": [
    {
     "name": "stdout",
     "output_type": "stream",
     "text": [
      "nombre perro\n"
     ]
    }
   ],
   "source": [
    "su_perro=Perro('tarzan',1)\n",
    "su_perro.__name = \"nombre perro\" #Esta linea tambien debería generar error, pero no!\n",
    "print(su_perro.__name) # Esta linea genera un error porque la variable es privada\n"
   ]
  },
  {
   "cell_type": "markdown",
   "metadata": {},
   "source": [
    "Entonces, ¿Cómo hacemos para acceder a las variables privadas? \n",
    "\n",
    "> Por medio de un método (función)\n",
    "\n",
    "En el ejemplo de la clase `Perro()`"
   ]
  },
  {
   "cell_type": "code",
   "execution_count": 28,
   "metadata": {},
   "outputs": [],
   "source": [
    "class Perro():\n",
    "    \"\"\"Modelo de clase Perro.\"\"\"\n",
    "    def __init__(self, nombre, edad):\n",
    "        \"\"\"Inicializamos el nombre y la edad.\"\"\"\n",
    "        self.__name = nombre\n",
    "        self.__age = edad\n",
    "        \n",
    "    def sit(self):\n",
    "        \"\"\"Simular truco sentarse \"\"\"\n",
    "        print(self.__name.title() + \" esta sentando.\")\n",
    "\n",
    "    def roll_over(self):\n",
    "        \"\"\"Simular truco girar\"\"\"\n",
    "        print(self.__name.title() + \" está girando!\")\n",
    "\n",
    "    def get_name(self):\n",
    "        \"\"\"Metodo para recuperar el nombre del perro\"\"\"\n",
    "        return self.__name"
   ]
  },
  {
   "cell_type": "markdown",
   "metadata": {},
   "source": [
    "El nuevo método `get_name()` permite retornar (obtener) el nombre del perro."
   ]
  },
  {
   "cell_type": "code",
   "execution_count": 12,
   "metadata": {},
   "outputs": [
    {
     "name": "stdout",
     "output_type": "stream",
     "text": [
      "El nombre de su perro es: tarzan\n"
     ]
    }
   ],
   "source": [
    "su_perro = Perro(\"tarzan\",2)\n",
    "print(\"El nombre de su perro es: \" + su_perro.get_name())\n",
    "#print(\"El nombre de su perro es :\" + su_perro.get_name().title())"
   ]
  },
  {
   "cell_type": "markdown",
   "metadata": {},
   "source": [
    "Piense que es necesario actualizar la edad del perro, una vez cumpla años. Por esto, podría dejar la variable ``age`` accesible o dejarla privada, y programar un método para actualizar la edad, tal como se observa con la función `update_age()` a continuación"
   ]
  },
  {
   "cell_type": "code",
   "execution_count": 27,
   "metadata": {},
   "outputs": [],
   "source": [
    "class Perro():\n",
    "    \"\"\"Modelo de clase Perro.\"\"\"\n",
    "    def __init__(self, nombre, edad):\n",
    "        \"\"\"Inicializamos el nombre y la edad.\"\"\"\n",
    "        self.__name = nombre\n",
    "        self.__age = edad\n",
    "        \n",
    "    def sit(self):\n",
    "        \"\"\"Simular truco sentarse \"\"\"\n",
    "        print(self.__name.title() + \" esta sentando.\")\n",
    "\n",
    "    def roll_over(self):\n",
    "        \"\"\"Simular truco girar\"\"\"\n",
    "        print(self.__name.title() + \" está girando!\")\n",
    "\n",
    "    def get_name(self):\n",
    "        \"\"\"Metodo para recuperar el nombre del perro\"\"\"\n",
    "        return self.__name\n",
    "\n",
    "    def update_age(self):\n",
    "        \"\"\"Actualiza la edad actual, cumpleaños\"\"\"\n",
    "        self.__age +=1\n",
    "        return self.__age"
   ]
  },
  {
   "cell_type": "code",
   "execution_count": 26,
   "metadata": {},
   "outputs": [
    {
     "name": "stdout",
     "output_type": "stream",
     "text": [
      "Firulais cumple 4 años\n"
     ]
    }
   ],
   "source": [
    "mi_perro=Perro(\"firulais\",3)\n",
    "new_age=mi_perro.update_age()\n",
    "print(mi_perro.get_name().title() +\" cumple \" + str(new_age) + \" años\")"
   ]
  },
  {
   "cell_type": "markdown",
   "metadata": {},
   "source": [
    "## Para recordar !!!\n",
    "\n",
    "* Podemos definir variables privadas nombrandolas con dos rayas al piso al inicio del nombre.\n",
    "* Si la variable es privada no se puede acceder (leer, ni escribir) desde código que este fuera de la definición de la clase.\n",
    "* Si necesitamos que se actualice o se pueda acceder a la variable privada, podemos codificar funciones para dar esta funcionalidad, pero esto depende si el programador lo considera necesario."
   ]
  },
  {
   "cell_type": "markdown",
   "metadata": {},
   "source": [
    "## Ejercicio\n",
    "\n",
    "1. En el ejercicio anterior, del restaurante. Convierta las variables definidas en privadas y codifique las funciones que considere necesarias para accederlas o modificarlas.\n",
    "\n",
    "2. Crear una clase Usuario. Debe tener al menos dos atributos nombre y apellido. La clase debe contener además los atributos típicos de un usuario. Debe tener un método `descripcion_usuario` que imprime en pantalla un resumen de los atributos (variables creadas). Otro método es `mensaje_usuario()` que debe imprimir un mensaje de bienvenida con los datos de usuario."
   ]
  },
  {
   "cell_type": "markdown",
   "metadata": {},
   "source": [
    "# Herencia\n",
    "La herencia es una de las premisas y técnicas de la POO la cual permite a los programadores crear una clase general primero y luego más tarde crear clases más especializadas que re-utilicen código de la clase general. La herencia también le permite escribir un código más limpio y legible [link](https://entrenamiento-python-basico.readthedocs.io/es/latest/leccion9/herencia.html)."
   ]
  },
  {
   "cell_type": "markdown",
   "metadata": {},
   "source": [
    "Ahora suponemos que necesitamos crear diferentes razas de perros. Suponga que una de estas razas es la san bernardo. Se quiere agregar la característica que esta raza se usa para rescatar humanos en las montañas. \n",
    "\n",
    "Podemos hacer uso de la herencia en P.O.O. Claramente el san bernardo es un perro, por lo cual podemos heredar todas las caracteristicas de la clase perro y agregar nuevos atributos y métodos. Veamos el código."
   ]
  },
  {
   "cell_type": "code",
   "execution_count": null,
   "metadata": {},
   "outputs": [],
   "source": []
  },
  {
   "cell_type": "markdown",
   "metadata": {},
   "source": [
    "# Referencias.\n",
    "\n",
    "[netacad.com](https://www.netacad.com/courses/programming/pcap-programming-essentials-python)\n",
    "\n",
    "Python Crash Course, Eric Matthes, 2ª Ed. 2019\n"
   ]
  }
 ],
 "metadata": {
  "interpreter": {
   "hash": "efbe9435cc8db3e73b5a78638a2554badc033fad4cda795f41c93f6f7edda0a4"
  },
  "kernelspec": {
   "display_name": "Python 3.9.4 64-bit",
   "language": "python",
   "name": "python3"
  },
  "language_info": {
   "codemirror_mode": {
    "name": "ipython",
    "version": 3
   },
   "file_extension": ".py",
   "mimetype": "text/x-python",
   "name": "python",
   "nbconvert_exporter": "python",
   "pygments_lexer": "ipython3",
   "version": "3.9.4"
  },
  "orig_nbformat": 4
 },
 "nbformat": 4,
 "nbformat_minor": 2
}
