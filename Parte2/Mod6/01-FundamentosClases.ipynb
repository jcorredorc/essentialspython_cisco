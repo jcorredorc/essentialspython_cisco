{
 "cells": [
  {
   "cell_type": "code",
   "execution_count": 5,
   "metadata": {},
   "outputs": [
    {
     "name": "stdout",
     "output_type": "stream",
     "text": [
      "0\n",
      "1\n",
      "2\n",
      "3\n"
     ]
    }
   ],
   "source": [
    "# Clases\n",
    "\n",
    "class ClaseSimple:\n",
    "    def __init__(self):\n",
    "        self.listPila=[]\n",
    "        self.__otraListaprivada=[]\n",
    "        self.__listaPila=[]\n",
    "    \n",
    "    def push(self, val):\n",
    "        self.__listaPila.append(val)\n",
    "\n",
    "    def pop(self):\n",
    "        val = self.__listaPila[-1]\n",
    "        del self.__listaPila[-1]\n",
    "        return val\n",
    "\n",
    "miPrimerObjeto=ClaseSimple()\n",
    "print(len(miPrimerObjeto.listPila))\n",
    "# print(len(miPrimerObjeto.__otraListaprivada)) # genera un error. La lista es privada porque empieza con __\n",
    "\n",
    "\n",
    "miPrimerObjeto.push(3)\n",
    "miPrimerObjeto.push(2)\n",
    "miPrimerObjeto.push(1)\n",
    "\n",
    "print(miPrimerObjeto.pop())\n",
    "print(miPrimerObjeto.pop())\n",
    "print(miPrimerObjeto.pop())\n",
    "\n",
    "\n",
    "objetoPila2 = ClaseSimple()\n",
    "\n",
    "#define subclase a partir de la primera\n",
    "class SumarPila(Pila):\n",
    "    def __init__(self):\n",
    "        miPrimerObjeto.__init__(self)\n",
    "        self.__sum = 0\n",
    "\n",
    "#6.1.2.11"
   ]
  }
 ],
 "metadata": {
  "interpreter": {
   "hash": "efbe9435cc8db3e73b5a78638a2554badc033fad4cda795f41c93f6f7edda0a4"
  },
  "kernelspec": {
   "display_name": "Python 3.9.4 64-bit",
   "language": "python",
   "name": "python3"
  },
  "language_info": {
   "codemirror_mode": {
    "name": "ipython",
    "version": 3
   },
   "file_extension": ".py",
   "mimetype": "text/x-python",
   "name": "python",
   "nbconvert_exporter": "python",
   "pygments_lexer": "ipython3",
   "version": "3.9.4"
  },
  "orig_nbformat": 4
 },
 "nbformat": 4,
 "nbformat_minor": 2
}
