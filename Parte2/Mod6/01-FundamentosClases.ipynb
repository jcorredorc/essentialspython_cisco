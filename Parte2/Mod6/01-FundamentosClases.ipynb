{
 "cells": [
  {
   "cell_type": "markdown",
   "metadata": {},
   "source": [
    "# Programación Orientada a Objetos\n",
    "\n",
    "La Programación Orientada a Objetos (POO) permite que el código sea reutilizable, organizado y fácil de mantener. \n",
    "Sigue el principio de desarrollo de software utilizado por muchos programadores DRY (Don’t Repeat Yourself), para evitar duplicar el código y crear de esta manera programas eficientes [link](https://profile.es/blog/que-es-la-programacion-orientada-a-objetos/).\n"
   ]
  },
  {
   "cell_type": "markdown",
   "metadata": {},
   "source": [
    "Los objetos los podemos agrupar en clases. Por ejemplo el gato, el perro, la vaca y el humano pertenecen a la clase mamiferos. Todos tienen características similares.\n",
    "\n",
    "Observe que el perro también es una clase que agrupa animales domésticos que tienen cuatro patas, dos orejas, dos ojos, ladran y hacen trucos como dar la pata o girar y estan cubiertos de pelo (la mayoria), entre otras caracteríssticas que los definen. \n",
    "\n",
    "Vamos a mostrar el concepto de clase por medio de un ejemplo. La primera clase que vamos a crear es la de __perro__."
   ]
  },
  {
   "cell_type": "code",
   "execution_count": null,
   "metadata": {},
   "outputs": [],
   "source": [
    "class Perro():\n",
    "    \"\"\"Modelo de clase Perro.\"\"\"\n",
    "    def __init__(self, nombre, edad):\n",
    "        \"\"\"Inicializamos el nombre y la edad.\"\"\"\n",
    "        self.name = nombre\n",
    "        self.age = edad\n",
    "        \n",
    "    def sit(self):\n",
    "        \"\"\"Simular truco sentarse \"\"\"\n",
    "        print(self.name.title() + \" esta sentando.\")\n",
    "\n",
    "    def roll_over(self):\n",
    "        \"\"\"Simular truco girar\"\"\"\n",
    "        print(self.name.title() + \" está girando!\")\n",
    "        \n"
   ]
  },
  {
   "cell_type": "markdown",
   "metadata": {},
   "source": [
    "Observe que por convención para nombrar las clases la primera letra de cada palabra se usa en mayúscula.\n",
    "\n",
    "En la clase `Perro` tenemos tres métodos, los métodos en POO son funciones que puede realizar la clase. En cuanto a programación los métodos se puede ver como funciones que estan definidas dentro de la clase, lo único que los difiere de una función son como se llama o usan los métodos.\n",
    "\n",
    "Un primer método de la clase `Perro` es `sit()`,  que implementa una acción que puede hacer la clase, en este caso el perro puede sentarse, otro es ``roll_over()`` que indica la habilidad o posibilidad del perro de girar. Finalmente hay otro método `__init__()`, que se va a utilizar más adelante, para crear el perro cuando necesitemos crear una instancia (objeto de la clase). \n",
    "\n",
    "> `__init__()` se conoce como __constructor__ de la clase.\n",
    "\n",
    "Observe que `__init__()`, recibe 3 argumentos, `self`, `name` y `age`. \n",
    "\n",
    "El primer argumento `self` hace referencia al mismo objeto creado (__self__ en inglés es __uno mismo__). Más adelante se aclara esta idea, con el ejemplo.\n",
    "\n",
    "Por otro lado, `name` y `age` van a permitir almacenar el nombre del perro y la edad del perro."
   ]
  },
  {
   "cell_type": "markdown",
   "metadata": {},
   "source": [
    "## ¿Cómo usar las clases?\n",
    "\n",
    "Hasta ahora hemos definido la clase pero aun no hemos creado ningún perro. Ahora vamos a crear una instancia o instaciar una clase. \n",
    "\n",
    "> Piense en una clase como un conjunto de instrucciones (receta) para hacer una instancia (objeto)\n",
    "\n",
    "A continuación creamos dos perros, esto es lo que se conoce como instancia de la clase `Perro`\n",
    "\n",
    "> El nombre self sugiere el propósito del parámetro - identifica el objeto para el cual se invoca el método."
   ]
  },
  {
   "cell_type": "code",
   "execution_count": null,
   "metadata": {},
   "outputs": [],
   "source": [
    "\n",
    "mi_perro = Perro('firulais', 6)\n",
    "perro_cuadra = Perro('layca', 3)\n",
    "\n",
    "print(\"El nombre de mi perro es \" + mi_perro.name.title() + \".\")\n",
    "print(\"Mi perro tiene \" + str(mi_perro.age) + \" años.\")\n",
    "mi_perro.sit()\n",
    "\n",
    "print(\"\\nEl nombre del perro del barrio es \" + perro_cuadra.name.title() + \".\")\n",
    "print(\"El perro del barrio tiene \" + str(perro_cuadra.age) + \" años.\")\n",
    "perro_cuadra.roll_over()"
   ]
  },
  {
   "cell_type": "markdown",
   "metadata": {},
   "source": [
    "Observe que cuando creamos un objeto de tipo perro (cualquier objeto), lo que sucede es que automáticamente se ejecuta el método `__init__()`, asignando al objeto el nombre y la edad. De igual manera, cada perro (objeto) tiene acceso a todos los métodos definidos en la clase, es decir cada perro creado puede sentarse y girar.\n"
   ]
  },
  {
   "cell_type": "markdown",
   "metadata": {},
   "source": [
    "## Ejercicio:\n",
    "1. Crear una clase para restaurantes. La clase debe contener tres atributos (variables) donde se almacenen el nombre del restaurante, un menú (almacenar en una lista) con 5 platos especiales que se ofrecen en el restaurante y el número de mesas que dispone el restaurante. Debe contener dos métodos (funciones) uno que indique un mensaje de bienvenida al comensal y otro método que imprima el horario de funcionamiento del restaurante.\n",
    "\n",
    "El mensaje de bienvenida depende de la hora cuando se use la función. Si es en horas de la mañana debe decir buenos días al restaurante `nombre_restaurante`, si son horas de la tarde o noches, debe ser consecuente. \n",
    "\n",
    "2. Crear dos restaurantes diferentes (instanciar la clase) e imprimir  todos los valores de variables y usar los métodos solicitados en el punto anterior.\n",
    "\n",
    "> Consultar módulo `datetime`."
   ]
  },
  {
   "cell_type": "markdown",
   "metadata": {},
   "source": [
    "## Variables privadas\n",
    "\n",
    "Observe que es posible que usted no quisiera que cualquiera modifique el nombre de su perro. Con cualquiera nos referimos a quien usa la clase `Perro()`. Fíjese que se puede modificar cualquier parámetro de la clase de la siguiente manera. "
   ]
  },
  {
   "cell_type": "code",
   "execution_count": null,
   "metadata": {},
   "outputs": [],
   "source": [
    "mi_perro.name = \"Hercules\"\n",
    "print(\"Han cambiado el nombre de mi perro a \" + mi_perro.name)"
   ]
  },
  {
   "cell_type": "markdown",
   "metadata": {},
   "source": [
    "En algunos casos necesitamos que algunas variables no sean accesibles a cualquiera que use nuestra clase. Cuando necesitamos que una variable sea privada y no se pueda modificar debemos definirla con un nombre que inicie con dos caracteres de barras al piso `__`, esto se conoce como __encapsulación__."
   ]
  },
  {
   "cell_type": "markdown",
   "metadata": {},
   "source": [
    "Para hacer las variables nombre y edad privadas las definimos como en el siguiente código:"
   ]
  },
  {
   "cell_type": "code",
   "execution_count": null,
   "metadata": {},
   "outputs": [],
   "source": [
    "class Perro():\n",
    "    \"\"\"Modelo de clase Perro.\"\"\"\n",
    "    def __init__(self, nombre, edad):\n",
    "        \"\"\"Inicializamos el nombre y la edad.\"\"\"\n",
    "        self.__name = nombre\n",
    "        self.__age = edad\n",
    "        \n",
    "    def sit(self):\n",
    "        \"\"\"Simular truco sentarse \"\"\"\n",
    "        print(self.__name.title() + \" esta sentando.\")\n",
    "\n",
    "    def roll_over(self):\n",
    "        \"\"\"Simular truco girar\"\"\"\n",
    "        print(self.__name.title() + \" está girando!\")"
   ]
  },
  {
   "cell_type": "code",
   "execution_count": null,
   "metadata": {},
   "outputs": [],
   "source": [
    "su_perro=Perro('tarzan',1)\n",
    "\n",
    "try:\n",
    "    print(su_perro.__name) # Esta linea genera un error porque la variable es privada\n",
    "except:\n",
    "    print(\"Genera un excepción AttibuteError, porque intento acceder a una variable privada\")\n",
    "print()\n",
    "#ahora que pasa si intento esrcibir la variable?\n",
    "su_perro.__name = \"zeus\" #Esta linea debería generar error, pero no!\n",
    "print(\"variable 'modificada' ahora es \" + su_perro.__name)\n"
   ]
  },
  {
   "cell_type": "markdown",
   "metadata": {},
   "source": [
    "> Tenga cuidado ya que pareciera que se pudo cambiar el valor de la variable privada (su_perro.__name), pero en realidad se esta asignando a otra variable.  El mecanismo de python para crear varaibles privadas es cambiarle el nombre a la variable privada."
   ]
  },
  {
   "cell_type": "markdown",
   "metadata": {},
   "source": [
    "Entonces, ¿Cómo hacemos para acceder a las variables privadas? \n",
    "\n",
    "> Por medio de un método (función)\n",
    "\n",
    "En el ejemplo de la clase `Perro()` creamos la función ``get_name`` y ``update_name``"
   ]
  },
  {
   "cell_type": "code",
   "execution_count": null,
   "metadata": {},
   "outputs": [],
   "source": [
    "class Perro():\n",
    "    \"\"\"Modelo de clase Perro.\"\"\"\n",
    "    def __init__(self, nombre, edad):\n",
    "        \"\"\"Inicializamos el nombre y la edad.\"\"\"\n",
    "        self.__name = nombre\n",
    "        self.__age = edad\n",
    "        \n",
    "    def sit(self):\n",
    "        \"\"\"Simular truco sentarse \"\"\"\n",
    "        print(self.__name.title() + \" esta sentando.\")\n",
    "\n",
    "    def roll_over(self):\n",
    "        \"\"\"Simular truco girar\"\"\"\n",
    "        print(self.__name.title() + \" está girando!\")\n",
    "\n",
    "    def get_name(self):\n",
    "        \"\"\"Metodo para recuperar el nombre del perro\"\"\"\n",
    "        return self.__name\n",
    "\n",
    "    def update_name(self, new_name):\n",
    "        \"\"\"Método para actualizar el nombre del perro\"\"\"\n",
    "        self.__name = new_name\n"
   ]
  },
  {
   "cell_type": "markdown",
   "metadata": {},
   "source": [
    "El nuevo método `get_name()` permite retornar (obtener) el nombre del perro. Observe el siguiente código"
   ]
  },
  {
   "cell_type": "code",
   "execution_count": null,
   "metadata": {},
   "outputs": [],
   "source": [
    "su_perro = Perro(\"tarzan\",2)\n",
    "#print(\"El nombre de su perro es: \" + su_perro.get_name())\n",
    "print(\"El nombre de su perro es :\" + su_perro.get_name().title())"
   ]
  },
  {
   "cell_type": "code",
   "execution_count": null,
   "metadata": {},
   "outputs": [],
   "source": [
    "# Actualiza el nombre del perro\n",
    "su_perro.update_name(\"Zeus\")\n",
    "print(su_perro.get_name())"
   ]
  },
  {
   "cell_type": "markdown",
   "metadata": {},
   "source": [
    "## OJO: Tenga cuidado con los nombres de las variables!!"
   ]
  },
  {
   "cell_type": "code",
   "execution_count": null,
   "metadata": {},
   "outputs": [],
   "source": [
    "su_perro=Perro(\"tarzan\",2)\n",
    "print(su_perro.get_name())\n",
    "#Ahora vamos a 'modificar' la variable privada,\n",
    "su_perro.__name = \"Pluto\"\n",
    "print(\"Variable privada su_perro.__name es \", su_perro.__name  )\n",
    "\n",
    "## Pero utilizando los metodos de acceso a la variable definida en el objeto tenemos\n",
    "su_perro.get_name()\n",
    "\n",
    "# observamos que la variable interna privada de la clase no se ha modificado\n",
    "# Lo que nos indicaría que no son la misma variable\n",
    "#-----------------------------------------------------\n",
    "#\n",
    "# de hecho, puedo crear otra variable cualquiera\n",
    "\n",
    "su_perro.var = \"otra variable\"\n",
    "print(su_perro.var)\n"
   ]
  },
  {
   "cell_type": "markdown",
   "metadata": {},
   "source": [
    "### Variables de instancia\n",
    "\n",
    "Estas \"nuevas\" variables que se pueden crear en cualquier momento se conocen como __variables de instancia__.\n",
    "\n",
    "En el ejemplo anterior las variables `su_perro.__name` y `su_perro.var` son variables de instancia, y no se necesita llamar al constructor de la clase para poder crearlas (recuerde que el constructor es el método `__init__`).\n",
    "\n",
    "> El modificar una variable de instancia de cualquier objeto no tiene impacto en todos los objetos restantes."
   ]
  },
  {
   "cell_type": "markdown",
   "metadata": {},
   "source": [
    "Para listar todas las propiedades (atributos) de un objeto podemos usar el atributo `__dict__`, que muestra un diccionario con esta información. Veamos el ejemplo,"
   ]
  },
  {
   "cell_type": "code",
   "execution_count": null,
   "metadata": {},
   "outputs": [],
   "source": [
    "print(su_perro.__dict__)"
   ]
  },
  {
   "cell_type": "markdown",
   "metadata": {},
   "source": [
    "Las primeras dos llaves del diccionario son las variables privadas, `__name` y  `__age`, observe que python para hacerlas privadas lo que hace es cambiarle el nombre, agregando el nombre de la clase antecedido de un guion bajo."
   ]
  },
  {
   "cell_type": "markdown",
   "metadata": {},
   "source": [
    "## Ejemplo"
   ]
  },
  {
   "cell_type": "markdown",
   "metadata": {},
   "source": [
    "Piense que es necesario actualizar la edad del perro, una vez cumpla años. Por esto, podría dejar la variable ``age`` accesible o dejarla privada. Si es privada debo programar un método para actualizar la edad para aumentar en uno la edad cuando cumpla años, tal como se observa con la función `update_age()` a continuación"
   ]
  },
  {
   "cell_type": "code",
   "execution_count": null,
   "metadata": {},
   "outputs": [],
   "source": [
    "class Perro():\n",
    "    \"\"\"Modelo de clase Perro.\"\"\"\n",
    "    def __init__(self, nombre, edad):\n",
    "        \"\"\"Inicializamos el nombre y la edad.\"\"\"\n",
    "        self.__name = nombre\n",
    "        self.__age = edad\n",
    "        \n",
    "    def sit(self):\n",
    "        \"\"\"Simular truco sentarse \"\"\"\n",
    "        print(self.__name.title() + \" esta sentando.\")\n",
    "\n",
    "    def roll_over(self):\n",
    "        \"\"\"Simular truco girar\"\"\"\n",
    "        print(self.__name.title() + \" está girando!\")\n",
    "\n",
    "    def get_name(self):\n",
    "        \"\"\"Metodo para recuperar el nombre del perro\"\"\"\n",
    "        return self.__name\n",
    "\n",
    "    def update_age(self):\n",
    "        \"\"\"Actualiza la edad actual, cumpleaños\"\"\"\n",
    "        self.__age +=1\n",
    "        return self.__age"
   ]
  },
  {
   "cell_type": "code",
   "execution_count": null,
   "metadata": {},
   "outputs": [],
   "source": [
    "mi_perro=Perro(\"firulais\",3)\n",
    "new_age=mi_perro.update_age()\n",
    "print(mi_perro.get_name().title() +\" cumple \" + str(new_age) + \" años\")"
   ]
  },
  {
   "cell_type": "markdown",
   "metadata": {},
   "source": [
    "## Para recordar !!!\n",
    "\n",
    "* Podemos definir variables privadas nombrandolas con dos rayas al piso al inicio del nombre.\n",
    "* Si la variable es privada no se puede acceder (leer, ni escribir) desde código que este fuera de la definición de la clase.\n",
    "* Si necesitamos que se actualice o se pueda acceder a la variable privada, podemos codificar funciones para dar esta funcionalidad, pero esto depende si el programador lo considera necesario."
   ]
  },
  {
   "cell_type": "markdown",
   "metadata": {},
   "source": [
    "## Ejercicio\n",
    "\n",
    "1. En el ejercicio anterior, del restaurante. Convierta las variables definidas en privadas y codifique los métodos (funciones) que considere necesarias para accederlas o modificarlas.\n",
    "\n",
    "2. Crear una clase Usuario. Debe tener al menos dos atributos nombre y apellido. La clase debe contener además los atributos típicos de un usuario. Debe tener un método `descripcion_usuario` que imprime en pantalla un resumen de los atributos (variables creadas). Otro método es `mensaje_usuario()` que debe imprimir un mensaje de bienvenida con los datos de usuario.\n",
    "\n",
    "3. Consultar qué son las **variables de clase**. Crear una variable de este tipo para contar cuantos usuarios se crean por medio de la clase Usuario. (ver [link1](https://www.youtube.com/watch?v=0n1GSt8ZFJ8), [link2](https://es.acervolima.com/como-contar-el-numero-de-instancias-de-una-clase-en-python/), [ejemplo](Ejemplos/05_fundamentos_prooo.py) y el numeral 6.1.3.3 del [curso python](https://www.netacad.com/courses/programming/pcap-programming-essentials-python))"
   ]
  },
  {
   "cell_type": "markdown",
   "metadata": {},
   "source": [
    "# Herencia\n",
    "La herencia es una de las premisas y técnicas de la POO la cual permite a los programadores crear una clase general primero y luego más tarde crear clases más especializadas que re-utilicen código de la clase general. La herencia también le permite escribir un código más limpio y legible. Ver [link](https://entrenamiento-python-basico.readthedocs.io/es/latest/leccion9/herencia.html)."
   ]
  },
  {
   "cell_type": "markdown",
   "metadata": {},
   "source": [
    "Ahora suponemos que necesitamos crear diferentes razas de perros. Suponga que una de estas razas es la san bernardo. Se quiere agregar la característica que esta raza se usa para rescatar humanos en las montañas. \n",
    "\n",
    "Podemos hacer uso de la herencia en P.O.O. Claramente el san bernardo es un perro, por lo cual podemos heredar todas las caracteristicas de la clase perro y agregar nuevos atributos y métodos. Veamos el código."
   ]
  },
  {
   "cell_type": "code",
   "execution_count": null,
   "metadata": {},
   "outputs": [],
   "source": [
    "class Perro:\n",
    "    def __init__(self,nombre, edad):\n",
    "        self.name = nombre\n",
    "        self.age = edad\n",
    "    \n",
    "    def sit(self):\n",
    "        \"\"\"Modela el truco de dentarse\"\"\"\n",
    "        val = 2\n",
    "        print(self.name + \" esta sentado\")\n",
    "    \n",
    "    def roll_over(self):\n",
    "        \"\"\"Modelar el truco girar\"\"\"\n",
    "        print(self.name, \" esta girando\")\n",
    "    \n",
    "class SanBernardo(Perro):\n",
    "    \"\"\"\n",
    "    Modela la clase san bernardo que es una clase hija de la clase Perro \n",
    "    \"\"\"\n",
    "    def __init__(self,nombre, edad):\n",
    "        Perro.__init__(self,nombre,edad) # Se llama el constructor de la clase Perro! ó\n",
    "        # super().__init__(nombre, edad) # hay esta opción para llamar al constructor\n",
    "        self.num_rescates = 0\n",
    "\n",
    "    def rescue(self,num_personas):\n",
    "        print(self.name, \"esta rescatando \", num_personas, \" persona(s)\")\n",
    "        self.num_rescates += num_personas\n",
    "\n",
    "\n",
    "perro_rescate = SanBernardo(\"Rufo\", 4)\n",
    "perro_rescate.rescue(4)\n",
    "print(\"Numero de personas que ha rescatado \"+ perro_rescate.name + \" : \", perro_rescate.num_rescates)\n",
    "perro_rescate.rescue(8)\n",
    "print(\"Numero de personas que ha rescatado \"+ perro_rescate.name + \" : \", perro_rescate.num_rescates)\n",
    "\n"
   ]
  },
  {
   "cell_type": "markdown",
   "metadata": {},
   "source": [
    "## Polimorfismo\n",
    "\n",
    "Polimorfismo (en P.O.O) es la capacidad que tienen ciertos lenguajes para hacer que, al enviar el mismo mensaje (o, en otras palabras, invocar al mismo método) desde distintos objetos, cada uno de esos objetos pueda responder a ese mensaje (o a esa invocación) de forma distinta. ver [link](https://www.unirioja.es/cu/jearansa/0910/archivos/EIPR_Tema03.pdf)"
   ]
  },
  {
   "cell_type": "markdown",
   "metadata": {},
   "source": [
    "Para entender este concepto, imagine que la subclase san bernardo requiere responder diferente cuando se invoca el método `sit()` a la programación realizada en la clase padre `Perro`. En este caso se entiende que cuando el perro san bernardo se siente está dando una señal que ha encontrado a alguna persona para rescatar.  Este concepto se conoce como Polimorfismo, diferente forma de responder del objeto.\n",
    "\n",
    "Para implementar este concepto en Python solo es necesario reescribir el método en la clase hija, manteniendo el mismo nombre del método."
   ]
  },
  {
   "cell_type": "code",
   "execution_count": null,
   "metadata": {},
   "outputs": [],
   "source": [
    "class Perro:\n",
    "    def __init__(self,nombre, edad):\n",
    "        self.name = nombre\n",
    "        self.age = edad\n",
    "    \n",
    "    def sit(self):\n",
    "        \"\"\"Modela el truco de dentarse\"\"\"\n",
    "        val = 2\n",
    "        print(self.name + \" esta sentado\")\n",
    "    \n",
    "    def roll_over(self):\n",
    "        \"\"\"Modelar el truco girar\"\"\"\n",
    "        print(self.name, \" esta girando\")\n",
    "    \n",
    "class SanBernardo(Perro):\n",
    "    \"\"\"\n",
    "    Modela la clase san bernardo que es una clase hija de la clase Perro,\n",
    "    Ejemplo de polimorfismo ver def de sit()\n",
    "    \"\"\"\n",
    "\n",
    "    def __init__(self,nombre, edad):\n",
    "        Perro.__init__(self,nombre,edad) # Se llama el constructor de la clase Perro! ó\n",
    "        # super().__init__(nombre, edad) # hay esta opción para llamar al constructor\n",
    "        self.num_rescates = 0\n",
    "\n",
    "    def sit(self):\n",
    "        print(self.name, \"ha encontrado alguien para rescatar!!! \")\n",
    "\n",
    "    def rescue(self,num_personas):\n",
    "        print(self.name, \"esta rescatando \", num_personas, \" persona(s)\")\n",
    "        self.num_rescates += num_personas\n",
    "        \n",
    "\n",
    "perro_rescate = SanBernardo(\"Rufo\", 4)\n",
    "perro_rescate.sit()\n",
    "\n",
    "otro_perro = Perro(\"Carry\",5)\n",
    "otro_perro.sit()"
   ]
  },
  {
   "cell_type": "markdown",
   "metadata": {},
   "source": [
    "## Ejercicio\n",
    "\n",
    "Considerando las clases, restaurante y usuario, creadas en los ejercicios anteriores, complemente su código considerando:\n",
    "\n",
    "1. El dueño del restaurante necesita llevar un seguimiento de los usuarios y los pedidos que hace cada comensal.\n",
    "\n",
    "2. Así mismo requiere que se genere la factura del pedido de cada usuario.\n",
    "\n",
    "Para este requerimiento, usted debe programar:\n",
    "\n",
    "1. En la clase `Usuario`:\n",
    "\n",
    "    * Crear dos subclases una que represente al administrador del restaurante (puede considerar que es un usuario que tiene privilegios de administrador) y otro que represente empleados del restaurante, por ejemplo mesero, cajera, cocinero, etc.\n",
    "\n",
    "    * Ajuste los atributos (las variables) para indicar qué privilegios tiene cada clase. Cree un atributo que almacene una lista con los privilegios que tiene con cadenas como: \"agregar usuario\", \"crear orden\", \"imprimir factura\", \"hacer reserva\" (piense en qué privilegios debería tener cada clase o subclase). Así mismo crear un método (función) que muestre los privilegios.\n",
    "\n",
    "    * En la clase `Usuario` se debe asegurar (por medio de manejo de excepciones) que los datos ingresados sean válidos.\n",
    "\n",
    "    * Crear un atributo en la clase Usuario donde se guarda la orden que realiza y los precios de cada producto consumido.\n",
    "\n",
    "2.  En la clase `Restaurante`: \n",
    "    \n",
    "    * Crear un método que permita imprimir la orden de un usuario del restaurante. Se debe utilizar el atributo del comensal respectivo (usuario) y guardar el número de la orden. El número de la orden se debe generar de forma consecutiva automáticamente. Finalmente debe imprimir la factura con el nombre del usuario, el número de la orden, la orden realizada con los precios de cada producto y el total, incluyendo el valor de IVA pagado. Así mismo debe incluir los datos del restaurante.\n",
    "\n",
    "    * En la clase `Restaurante` se debe asegurar (por medio de manejo de excepciones) que los datos ingresados sean válidos.\n",
    "\n",
    "\n",
    "3.  Crear un paquete conformado por dos módulos. El primer módulo (un archivo .py) debe contener la clase `Restaurante` y el segundo módulo (otro archivo .py) debe contener la clase `Usuario`. Finalmente se debe crear un archivo `main.py` que importe el paquete y haga uso de las clases previamente programadas y probadas. \n",
    "\n",
    "El archivo `main.py` debe importar el paquete. Crear un restaurante, crear dos comensales, un cajero, un mesero y un administrador. Para cada comensal se debe ingresar una orden, esta orden la debe ingresar el cajero del restaurante. En seguida se debe poder imprimir la factura de cada usuario. \n",
    "\n",
    "> __Nota :__ Para aprobar la evidencia debe presentar su solución incluyendo el punto 3.\n",
    "\n",
    "\n",
    "El siguiente es un ejemplo, solo para mostrar como se vería el archivo `main.py`, pero se debe ajustar a la implementación de cada aprendiz.\n",
    "\n"
   ]
  },
  {
   "cell_type": "markdown",
   "metadata": {},
   "source": [
    "### Ejemplo de prueba del paquete (debe ajustarlo a la implementación que ud hizo)\n",
    "\n",
    "```Pyhton\n",
    "\n",
    "from packge_name import ????\n",
    "\n",
    "# --------------------------------------------\n",
    "# crear usuarios e imprimir privilegios ...\n",
    "# --------------------------------------------\n",
    "# \n",
    "input(\"Ingrese datos del cliente: \") ...\n",
    "....\n",
    "cliente = users.Users(nombre_cliente1, apellido_cliente1, id_cliente1) # id_cliente es C.C, DI, etc\n",
    "cliente2 = ...\n",
    "cajero = ...\n",
    "#...\n",
    "#...\n",
    "# -------------------------------------------------\n",
    "# Crear restaurante, realizar e imprimir ordenes \n",
    "# -------------------------------------------------\n",
    "\n",
    "mi_restaurante = restaurante.Restaurante(\n",
    "    \"bnGusto\", \"tipica\", 3, [\"arroz\", \"papa\"])\n",
    "cajero.hacerpedido(cliente) # metodo que solicita ingresar productos y precios\n",
    "mi_restaurante.order(cliente) # imprimir orden con numero de factura y demás requerimientos..\n",
    "....\n",
    "....\n",
    "cajero.hacerpedido(cliente2)# ...\n",
    "mi_restaurante.order(cliente2) # numero del orden debe ser consecutiva \n",
    "                               # (si la anterior fue 001, esta debe ser 002, \n",
    "                               # y cada vez que se cree una nueva factura se \n",
    "                               # debe actualizar este atributo)\n",
    "....\n",
    "....\n",
    "```\n",
    "La última línea de código debe imprimir la factura con los datos del usuario y los datos de la orden, con precios, total e IVA.\n",
    "\n",
    "> Comprenda el ejemplo disponible en [link](Ejemplos/10_fundamentos_prooo.py) allí se observa cómo pueden interactuar los objetos."
   ]
  },
  {
   "cell_type": "markdown",
   "metadata": {},
   "source": [
    "# Referencias.\n",
    "\n",
    "1. Programming Essentials in Python, [netacad.com](https://www.netacad.com/courses/programming/pcap-programming-essentials-python)\n",
    "\n",
    "2. Python Crash Course, Eric Matthes, 2ª Ed. 2019\n"
   ]
  }
 ],
 "metadata": {
  "interpreter": {
   "hash": "916dbcbb3f70747c44a77c7bcd40155683ae19c65e1c03b4aa3499c5328201f1"
  },
  "kernelspec": {
   "display_name": "Python 3.8.10 64-bit",
   "language": "python",
   "name": "python3"
  },
  "language_info": {
   "codemirror_mode": {
    "name": "ipython",
    "version": 3
   },
   "file_extension": ".py",
   "mimetype": "text/x-python",
   "name": "python",
   "nbconvert_exporter": "python",
   "pygments_lexer": "ipython3",
   "version": "3.8.10"
  },
  "orig_nbformat": 4
 },
 "nbformat": 4,
 "nbformat_minor": 2
}
